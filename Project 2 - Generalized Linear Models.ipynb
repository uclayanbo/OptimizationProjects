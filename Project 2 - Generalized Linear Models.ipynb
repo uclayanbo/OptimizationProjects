{
 "cells": [
  {
   "cell_type": "markdown",
   "id": "dea8e006",
   "metadata": {},
   "source": [
    "# Project 2 - Generalized Linear Models\n",
    "\n",
    "## Yan Bo Zeng"
   ]
  },
  {
   "cell_type": "markdown",
   "id": "2ca3876c",
   "metadata": {},
   "source": [
    "This project has been uploaded on GitHub: https://github.com/uclayanbo/OptimizationProjects/blob/e9f5fe09f73c9040a29bcd0ad702dbd0c968214e/Project%202%20-%20Generalized%20Linear%20Models.ipynb"
   ]
  },
  {
   "cell_type": "code",
   "execution_count": null,
   "id": "f13ea0ba",
   "metadata": {},
   "outputs": [],
   "source": [
    "library(dplyr)\n",
    "library(repr)\n",
    "options(repr.plot.width = 12, repr.plot.height = 10)\n",
    "options(scipen = 999)"
   ]
  },
  {
   "cell_type": "markdown",
   "id": "e2f5465f",
   "metadata": {},
   "source": [
    "# 1. Ordinary Least Squares"
   ]
  },
  {
   "cell_type": "markdown",
   "id": "8bd983f2",
   "metadata": {},
   "source": [
    "Recall the ordinary least squares model $y_i = x_i'\\beta + \\epsilon_i$. The maximum likelihood estimator (MLE) for the coefficient parameter $\\beta$ is\n",
    "\\begin{align*}\n",
    "    \\hat{\\beta} & = \\arg\\max_{\\beta \\in \\mathbb{R}^k} -\\frac{1}{2n} \\sum_{i=1}^{n} \\left(y_i - x_i'\\beta \\right)^2 \\\\\n",
    "    & = \\arg\\min_{\\beta \\in \\mathbb{R}^k} \\frac{1}{2n} \\sum_{i=1}^{n} \\left(y_i - x_i'\\beta \\right)^2\n",
    "\\end{align*}\n",
    "\n",
    "Denote $\\frac{1}{2n} \\sum_{i=1}^{n} \\left(y_i - x_i'\\beta \\right)^2 = Q(\\beta)$, $X$ as the model matrix including the intercept term, and $Y$ as the outcome vector. Then, the gradient is\n",
    "\\begin{align*}\n",
    "    \\nabla Q(\\beta) & = \\frac{\\partial}{\\partial\\beta} Q(\\beta) \\\\\n",
    "    & = -\\frac{1}{n} \\sum_{i=1}^{n} \\left(y_i - x_i'\\beta \\right)x_i \\\\\n",
    "    & = -\\frac{1}{n} X'\\left(Y - X\\beta \\right)\n",
    "\\end{align*}\n",
    "\n",
    "The Hessian is\n",
    "\\begin{align*}\n",
    "    \\nabla^2 Q(\\beta) & = \\frac{1}{n} X'X \\\\\n",
    "    & \\succeq 0\n",
    "\\end{align*}"
   ]
  },
  {
   "cell_type": "code",
   "execution_count": 2,
   "id": "077a2139",
   "metadata": {},
   "outputs": [],
   "source": [
    "#Define the cost, gradient, and Hessian functions for OLS.\n",
    "OLS_cost <- function(X, y, beta) {\n",
    "    return(mean((y - X %*% beta)^2) / 2)\n",
    "}\n",
    "\n",
    "OLS_gradient <- function(X, y, beta) {\n",
    "    return(-t(X) %*% (y - X %*% beta) / length(y))\n",
    "}\n",
    "\n",
    "OLS_hessian <- function(X, y, beta) {\n",
    "    return(t(X) %*% X / length(y))\n",
    "}"
   ]
  },
  {
   "cell_type": "markdown",
   "id": "68fe0e2c",
   "metadata": {},
   "source": [
    "### Gradient Descent\n",
    "Given a learning rate $\\alpha_t$, gradient descent will iterate on\n",
    "\\begin{align*}\n",
    "    \\hat{\\beta}_{t+1} & = \\hat{\\beta}_{t} - \\alpha_t \\nabla Q(\\hat{\\beta}_{t}) \\\\\n",
    "    & = \\hat{\\beta}_{t} + \\alpha_t \\frac{1}{n} X'\\left(Y - X\\hat{\\beta}_{t} \\right)\n",
    "\\end{align*}"
   ]
  },
  {
   "cell_type": "code",
   "execution_count": 3,
   "id": "8ee6185e",
   "metadata": {},
   "outputs": [],
   "source": [
    "#Define the gradient descent function.\n",
    "gradient_descent <- function(X, y, beta_init = rep(0, ncol(X)), num_iters = 200, alpha = 0.1,\n",
    "                             error_func = OLS_cost, grad_func = OLS_gradient, linesearch = FALSE, linesearch_c = 0.8) {\n",
    "    \n",
    "    #Record errors (cost values) from each iteration.\n",
    "    error_history <- rep(0, num_iters)\n",
    "    \n",
    "    #Initialize beta.\n",
    "    beta <- beta_init\n",
    "    \n",
    "    #Record alpha for line search.\n",
    "    alpha_init <- alpha\n",
    "    \n",
    "    #Implement gradient descent.\n",
    "    for (i in 1:num_iters) {\n",
    "        error_old <- error_func(X, y, beta)\n",
    "        delta <- grad_func(X, y, beta)\n",
    "        beta <- beta - alpha * delta\n",
    "        \n",
    "        #Implement backtracking line search.\n",
    "        if (linesearch == TRUE) {\n",
    "            while (error_func(X, y, beta) > (error_old - linesearch_c*alpha*(norm(delta)^2))) {\n",
    "                error_old <- error_func(X, y, beta)\n",
    "                alpha = alpha / 2\n",
    "                delta <- grad_func(X, y, beta)\n",
    "                beta <- beta - alpha * delta\n",
    "            }\n",
    "            \n",
    "            alpha <- alpha_init\n",
    "        }\n",
    "        \n",
    "        error_history[i] <- error_func(X, y, beta)\n",
    "    }\n",
    "    \n",
    "    #Return the history for plotting.\n",
    "    return(list(beta, error_history))\n",
    "}"
   ]
  },
  {
   "cell_type": "markdown",
   "id": "580acbcf",
   "metadata": {},
   "source": [
    "### Newton's Method\n",
    "The Newton's method will iterate on\n",
    "\\begin{align*}\n",
    "    \\hat{\\beta}_{t+1} & = \\hat{\\beta}_{t} - \\left(\\nabla^2 Q(\\hat{\\beta}_{t}) \\right)^{-1} \\nabla Q(\\hat{\\beta}_{t})\n",
    "\\end{align*}"
   ]
  },
  {
   "cell_type": "code",
   "execution_count": 4,
   "id": "b3b4677d",
   "metadata": {},
   "outputs": [],
   "source": [
    "#Define the Newton's method function.\n",
    "newton_method <- function(X, y, beta_init = rep(0, ncol(X)), num_iters = 200,\n",
    "                          error_func = OLS_cost, grad_func = OLS_gradient, hessian_func = OLS_hessian) {\n",
    "    \n",
    "    #Record errors (cost values) from each iteration.\n",
    "    error_history <- rep(0, num_iters)\n",
    "    \n",
    "    #Initialize beta.\n",
    "    beta <- beta_init\n",
    "    \n",
    "    #Implement Newton's method.\n",
    "    for (i in 1:num_iters) {\n",
    "        delta <- solve(hessian_func(X, y, beta)) %*% grad_func(X, y, beta)\n",
    "        beta <- beta - delta\n",
    "        error_history[i] <- error_func(X, y, beta)\n",
    "    }\n",
    "    \n",
    "    #Return the history for plotting.\n",
    "    return(list(beta, error_history))\n",
    "}"
   ]
  },
  {
   "cell_type": "markdown",
   "id": "1447df50",
   "metadata": {},
   "source": [
    "### BFGS\n",
    "BFGS will start with an inverse Hessian approximation $H_0 = I_k$, where $k$ is the dimension of $\\beta$.\n",
    "\n",
    "Given a learning rate $\\alpha_t$ which is obtained from backtracking line search for $t > 0$, we define\n",
    "\\begin{align*}\n",
    "    \\hat{\\beta}_{t+1} & = \\hat{\\beta}_{t} - \\alpha_t H_t \\nabla Q(\\hat{\\beta}_{t}) \\\\\n",
    "    s_t & = \\hat{\\beta}_{t+1} - \\hat{\\beta}_{t} \\\\\n",
    "    y_t & = \\nabla Q(\\hat{\\beta}_{t+1}) - \\nabla Q(\\hat{\\beta}_{t}) \\\\\n",
    "    \\rho_t & = \\frac{1}{y_t' s_t}\n",
    "\\end{align*}\n",
    "\n",
    "Then, update $H_{t+1} = \\left(I_k - \\rho_t s_t y_t' \\right) H_t \\left(I_k - \\rho_t y_t s_t' \\right) + \\rho_t s_t s_t'$."
   ]
  },
  {
   "cell_type": "code",
   "execution_count": 5,
   "id": "219bf18d",
   "metadata": {},
   "outputs": [],
   "source": [
    "#Define the BFGS function.\n",
    "bfgs <- function(X, y, beta_init = rep(0, ncol(X)), num_iters = 200, alpha = 0.1, linesearch_c = 0.8,\n",
    "                 error_func = OLS_cost, grad_func = OLS_gradient) {\n",
    "    \n",
    "    #Record errors (cost values) from each iteration.\n",
    "    error_history <- rep(0, num_iters)\n",
    "    \n",
    "    #Initialize beta.\n",
    "    beta <- beta_init\n",
    "    \n",
    "    #Record alpha for line search.\n",
    "    alpha_init <- alpha\n",
    "    \n",
    "    #Initialize the inverse Hessian approximation with identity.\n",
    "    n <- ncol(X)\n",
    "    H <- diag(n)\n",
    "    \n",
    "    #Implement BFGS.\n",
    "    for (i in 1:num_iters) {\n",
    "        delta <- H %*% grad_func(X, y, beta)\n",
    "        beta_new <- beta - alpha * delta\n",
    "        \n",
    "        #Implement backtracking line search.\n",
    "        while (error_func(X, y, beta_new) >\n",
    "               (error_func(X, y, beta) - linesearch_c * alpha * (t(grad_func(X, y, beta)) %*% delta))) {\n",
    "            alpha <- alpha / 2\n",
    "            beta_new <- beta - alpha * delta\n",
    "        }\n",
    "        \n",
    "        sk <- beta_new - beta\n",
    "        yk <- grad_func(X, y, beta_new) - grad_func(X, y, beta)\n",
    "        \n",
    "        #Sherman-Morrison-Woodbury.\n",
    "        rho <- c(1 / (t(yk) %*% sk))\n",
    "        \n",
    "        #Update the inverse Hessian approximation.\n",
    "        H <- (diag(n) - rho * sk %*% t(yk)) %*% H %*% (diag(n) - rho * yk %*% t(sk)) + rho * sk %*% t(sk)\n",
    "        \n",
    "        #Update beta and reset alpha.\n",
    "        beta <- beta_new\n",
    "        alpha <- alpha_init\n",
    "        error_history[i] <- error_func(X, y, beta)\n",
    "    }\n",
    "    \n",
    "    #Return the history for plotting.\n",
    "    return(list(beta, error_history))\n",
    "}"
   ]
  },
  {
   "cell_type": "markdown",
   "id": "f18f5766",
   "metadata": {},
   "source": [
    "### Conjugate Gradients\n",
    "\n"
   ]
  },
  {
   "cell_type": "code",
   "execution_count": 6,
   "id": "1a866ddd",
   "metadata": {},
   "outputs": [],
   "source": [
    "inner <- function(x, y) {\n",
    "    return(as.numeric(as.numeric(x) %*% as.numeric(y)))\n",
    "}\n",
    "\n",
    "conjugate_gradient <- function(X, y, num_iters = 200, error_func = OLS_cost) {\n",
    "    error_history <- rep(0, num_iters)\n",
    "    A <- t(X) %*% X\n",
    "    b <- t(X) %*% y\n",
    "    \n",
    "    n <- dim(A)[1]\n",
    "    x <- numeric(n)\n",
    "    r <- b - A %*% x\n",
    "    p <- r\n",
    "    r_old <- inner(r, r)\n",
    "    \n",
    "    for (i in 1:num_iters) {\n",
    "        alpha <- r_old / inner(p, (A %*% p))\n",
    "        x <- x + alpha * p\n",
    "        r <- r - alpha * A %*% p\n",
    "        r_new <- inner(r, r)\n",
    "        if (sqrt(r_new) < 1e-10)\n",
    "            break\n",
    "        beta <- r_new / r_old\n",
    "        p <- r + beta * p\n",
    "        r_old <- r_new\n",
    "        \n",
    "        error_history[i] <- error_func(X, y, x)\n",
    "    }\n",
    "    \n",
    "    #Return the history for plotting.\n",
    "    return(list(x, error_history))\n",
    "}"
   ]
  },
  {
   "cell_type": "markdown",
   "id": "391d21bd",
   "metadata": {},
   "source": [
    "## Test the algorithm on orange juice advertisement data.\n",
    "Firstly, we can use the R built-in glm() package to obtain a robust estimate of the coefficients."
   ]
  },
  {
   "cell_type": "code",
   "execution_count": 7,
   "id": "c8108a4d",
   "metadata": {},
   "outputs": [
    {
     "data": {
      "text/html": [
       "<table class=\"dataframe\">\n",
       "<caption>A matrix: 4 × 1 of type dbl</caption>\n",
       "<tbody>\n",
       "\t<tr><th scope=row>(Intercept)</th><td>10.8288216</td></tr>\n",
       "\t<tr><th scope=row>log(price)</th><td>-3.1386914</td></tr>\n",
       "\t<tr><th scope=row>brandminute.maid</th><td> 0.8701747</td></tr>\n",
       "\t<tr><th scope=row>brandtropicana</th><td> 1.5299428</td></tr>\n",
       "</tbody>\n",
       "</table>\n"
      ],
      "text/latex": [
       "A matrix: 4 × 1 of type dbl\n",
       "\\begin{tabular}{r|l}\n",
       "\t(Intercept) & 10.8288216\\\\\n",
       "\tlog(price) & -3.1386914\\\\\n",
       "\tbrandminute.maid &  0.8701747\\\\\n",
       "\tbrandtropicana &  1.5299428\\\\\n",
       "\\end{tabular}\n"
      ],
      "text/markdown": [
       "\n",
       "A matrix: 4 × 1 of type dbl\n",
       "\n",
       "| (Intercept) | 10.8288216 |\n",
       "| log(price) | -3.1386914 |\n",
       "| brandminute.maid |  0.8701747 |\n",
       "| brandtropicana |  1.5299428 |\n",
       "\n"
      ],
      "text/plain": [
       "                 [,1]      \n",
       "(Intercept)      10.8288216\n",
       "log(price)       -3.1386914\n",
       "brandminute.maid  0.8701747\n",
       "brandtropicana    1.5299428"
      ]
     },
     "metadata": {},
     "output_type": "display_data"
    }
   ],
   "source": [
    "oj <- read.csv(\"C:/Users/yanbo/OneDrive/Stanford MS&E 311 Optimization/oj.csv\")\n",
    "X <- model.matrix(log(sales) ~ log(price) + brand, data = oj)\n",
    "y <- log(oj$sales)\n",
    "\n",
    "builtin <- glm(log(sales) ~ log(price) + brand, data = oj)\n",
    "coef(builtin) %>% as.matrix()"
   ]
  },
  {
   "cell_type": "code",
   "execution_count": 8,
   "id": "9eaaad2c",
   "metadata": {},
   "outputs": [
    {
     "data": {
      "text/html": [
       "<table class=\"dataframe\">\n",
       "<caption>A matrix: 4 × 5 of type dbl</caption>\n",
       "<thead>\n",
       "\t<tr><th></th><th scope=col>GD, line search, alpha = 2</th><th scope=col>GD, line search, alpha = 0.1</th><th scope=col>Newton's</th><th scope=col>BFGS, alpha = 0.1</th><th scope=col>CG</th></tr>\n",
       "</thead>\n",
       "<tbody>\n",
       "\t<tr><th scope=row>(Intercept)</th><td>10.8288216</td><td> 9.7142440</td><td>10.8288216</td><td>10.8288217</td><td>10.8288216</td></tr>\n",
       "\t<tr><th scope=row>log(price)</th><td>-3.1386914</td><td>-1.0204047</td><td>-3.1386914</td><td>-3.1386915</td><td>-3.1386914</td></tr>\n",
       "\t<tr><th scope=row>brandminute.maid</th><td> 0.8701746</td><td> 0.2811513</td><td> 0.8701747</td><td> 0.8701745</td><td> 0.8701747</td></tr>\n",
       "\t<tr><th scope=row>brandtropicana</th><td> 1.5299428</td><td> 0.3799773</td><td> 1.5299428</td><td> 1.5299427</td><td> 1.5299428</td></tr>\n",
       "</tbody>\n",
       "</table>\n"
      ],
      "text/latex": [
       "A matrix: 4 × 5 of type dbl\n",
       "\\begin{tabular}{r|lllll}\n",
       "  & GD, line search, alpha = 2 & GD, line search, alpha = 0.1 & Newton's & BFGS, alpha = 0.1 & CG\\\\\n",
       "\\hline\n",
       "\t(Intercept) & 10.8288216 &  9.7142440 & 10.8288216 & 10.8288217 & 10.8288216\\\\\n",
       "\tlog(price) & -3.1386914 & -1.0204047 & -3.1386914 & -3.1386915 & -3.1386914\\\\\n",
       "\tbrandminute.maid &  0.8701746 &  0.2811513 &  0.8701747 &  0.8701745 &  0.8701747\\\\\n",
       "\tbrandtropicana &  1.5299428 &  0.3799773 &  1.5299428 &  1.5299427 &  1.5299428\\\\\n",
       "\\end{tabular}\n"
      ],
      "text/markdown": [
       "\n",
       "A matrix: 4 × 5 of type dbl\n",
       "\n",
       "| <!--/--> | GD, line search, alpha = 2 | GD, line search, alpha = 0.1 | Newton's | BFGS, alpha = 0.1 | CG |\n",
       "|---|---|---|---|---|---|\n",
       "| (Intercept) | 10.8288216 |  9.7142440 | 10.8288216 | 10.8288217 | 10.8288216 |\n",
       "| log(price) | -3.1386914 | -1.0204047 | -3.1386914 | -3.1386915 | -3.1386914 |\n",
       "| brandminute.maid |  0.8701746 |  0.2811513 |  0.8701747 |  0.8701745 |  0.8701747 |\n",
       "| brandtropicana |  1.5299428 |  0.3799773 |  1.5299428 |  1.5299427 |  1.5299428 |\n",
       "\n"
      ],
      "text/plain": [
       "                 GD, line search, alpha = 2 GD, line search, alpha = 0.1\n",
       "(Intercept)      10.8288216                  9.7142440                  \n",
       "log(price)       -3.1386914                 -1.0204047                  \n",
       "brandminute.maid  0.8701746                  0.2811513                  \n",
       "brandtropicana    1.5299428                  0.3799773                  \n",
       "                 Newton's   BFGS, alpha = 0.1 CG        \n",
       "(Intercept)      10.8288216 10.8288217        10.8288216\n",
       "log(price)       -3.1386914 -3.1386915        -3.1386914\n",
       "brandminute.maid  0.8701747  0.8701745         0.8701747\n",
       "brandtropicana    1.5299428  1.5299427         1.5299428"
      ]
     },
     "metadata": {},
     "output_type": "display_data"
    }
   ],
   "source": [
    "betalist_gd2_ls <- gradient_descent(X, y, alpha = 2, linesearch = TRUE)\n",
    "betalist_gd01_ls <- gradient_descent(X, y, linesearch = TRUE)\n",
    "betalist_newton <- newton_method(X, y)\n",
    "betalist_bfgs <- bfgs(X, y)\n",
    "betalist_cg <- conjugate_gradient(X, y)\n",
    "\n",
    "display <- cbind(betalist_gd2_ls[[1]], betalist_gd01_ls[[1]], betalist_newton[[1]], betalist_bfgs[[1]], betalist_cg[[1]])\n",
    "colnames(display) <- c(\"GD, line search, alpha = 2\", \"GD, line search, alpha = 0.1\", \"Newton's\", \"BFGS, alpha = 0.1\", \"CG\")\n",
    "display"
   ]
  },
  {
   "cell_type": "code",
   "execution_count": 9,
   "id": "dbe4a727",
   "metadata": {},
   "outputs": [
    {
     "data": {
      "image/png": "[encoded data removed]",
      "text/plain": [
       "Plot with title \"Path of convergence\""
      ]
     },
     "metadata": {
      "image/png": {
       "height": 600,
       "width": 720
      }
     },
     "output_type": "display_data"
    }
   ],
   "source": [
    "#Visualize the path of convergence.\n",
    "plot(log(betalist_gd2_ls[[2]]), col = 'blue', main = 'Path of convergence', ylab = 'Log(errors)', xlab = 'Iterations')\n",
    "points(log(betalist_gd01_ls[[2]]), col = 'green')\n",
    "points(log(betalist_newton[[2]]), col = 'red')\n",
    "points(log(betalist_bfgs[[2]]), col = 'orange')\n",
    "points(log(betalist_bfgs[[2]]), col = 'orange')\n",
    "points(log(betalist_cg[[2]]), col = 'purple')\n",
    "legend(\"topright\", col = c(\"blue\", \"green\", \"red\", \"orange\", \"purple\"), bty = \"o\", pch = 1, cex = 1.2,\n",
    "       legend = c(\"GD, line search, alpha = 2\", \"GD, line search, alpha = 0.1\", \"Newton's\", \"BFGS, alpha = 0.1\", \"CG\"))"
   ]
  },
  {
   "cell_type": "markdown",
   "id": "dbc1eda9",
   "metadata": {},
   "source": [
    "From Project 1, we learned that the best configuration for gradient descent was line search combined with a learning rate $\\alpha_t = 2$. When we tried to use large learning rates (e.g., $\\alpha_t \\le 0.4$) for BFGS, the line search part of the algorithm failed to return finite values. Therefore, we switched to some lower $\\alpha_t$ (e.g., $\\le 0.2$), and BFGS started to perform efficiently. We can see that at the same learning rate $\\alpha_t = 0.1$, BFGS significantly outperformed gradient descent.\n",
    "\n",
    "Although it is hard to see here, we confirm that conjugate gradients converges in Rank($X'X$) = 4 iterations.\n",
    "\n",
    "Noticeably, the convergence of Newton's method looks very interesting for the OLS case, where $\\hat{\\beta} = \\arg{\\min\\limits_\\beta{\\sum\\limits_{i=1}^n{(y_i - x_i'\\beta)^2}}}$, and $\\sum\\limits_{i=1}^n{x_ix_i'}$ is invertible.\n",
    "\n",
    "Let $\\beta \\in \\mathbb{R}^k$,\n",
    "\\begin{align*}\n",
    "    \\hat{Q}_n(\\beta) & = \\sum\\limits_{i=1}^n{(y_i - x_i'\\beta)^2} \\\\\n",
    "    \\frac{\\partial \\hat{Q}_n(\\beta)}{\\partial\\beta} & = \\sum\\limits_{i=1}^n{2x_i(y_i - x_i'\\beta)} = \\sum\\limits_{i=1}^n{2x_iy_i - 2x_ix_i'\\beta} \\\\\n",
    "    \\frac{\\partial^2 \\hat{Q}_n(\\beta)}{\\partial\\beta \\partial\\beta'} & = \\sum\\limits_{i=1}^n{-2x_ix_i'}\n",
    "\\end{align*}\n",
    "\n",
    "Then, in just one iteration, the Newton's method will return the OLS solution:\n",
    "\\begin{align*}\n",
    "    \\hat{\\beta} & = \\beta - \\left(\\frac{\\partial^2 \\hat{Q}_n(\\beta)}{\\partial\\beta \\partial\\beta'}\\right)^{-1} \\times \\frac{\\partial \\hat{Q}_n(\\beta)}{\\partial\\beta} \\\\\n",
    "    & = \\beta + \\left(2\\sum\\limits_{i=1}^n{x_ix_i'}\\right)^{-1} \\times 2\\left(\\sum\\limits_{i=1}^n{x_iy_i} - \\beta\\sum\\limits_{i=1}^n{x_ix_i'}\\right) \\\\\n",
    "    & = \\beta - \\left(2\\sum\\limits_{i=1}^n{x_ix_i'}\\right)^{-1} \\left(2\\beta\\sum\\limits_{i=1}^n{x_ix_i'}\\right) + \\left(2\\sum\\limits_{i=1}^n{x_ix_i'}\\right)^{-1} \\left(2\\sum\\limits_{i=1}^n{x_iy_i}\\right) \\\\\n",
    "    & = \\beta - \\beta + \\left(\\sum\\limits_{i=1}^n{x_ix_i'}\\right)^{-1} \\left(\\sum\\limits_{i=1}^n{x_iy_i}\\right) \\\\\n",
    "    & = \\left(\\sum\\limits_{i=1}^n{x_ix_i'}\\right)^{-1} \\left(\\sum\\limits_{i=1}^n{x_iy_i}\\right)\n",
    "\\end{align*}"
   ]
  },
  {
   "cell_type": "markdown",
   "id": "a407569b",
   "metadata": {},
   "source": [
    "# 2. Logistic and Probit Regressions"
   ]
  },
  {
   "cell_type": "markdown",
   "id": "f12a6ea4",
   "metadata": {},
   "source": [
    "Recall that in logit and probit models, $\\hat{\\beta}$ is obtained by maximizing the log-likelihood function or equivalently minimizing the cross-entropy loss function.\n",
    "\\begin{align*}\n",
    "    \\hat{\\beta} & = \\arg\\max_{\\beta \\in \\mathbb{R}^k} \\prod_{i=1}^{n} F(x_i'\\beta)^{y_i} \\left(1 - F(x_i'\\beta) \\right)^{1-y_i} \\\\\n",
    "    & = \\arg\\min_{\\beta \\in \\mathbb{R}^k} -\\log{\\left( \\prod_{i=1}^{n} F(x_i'\\beta)^{y_i} \\left(1 - F(x_i'\\beta) \\right)^{1-y_i} \\right)} \\\\\n",
    "    & = \\arg\\min_{\\beta \\in \\mathbb{R}^k} -\\frac{1}{n} \\sum_{i=1}^{n} \\left(y_i\\log{F(x_i'\\beta)} + (1-y_i)\\log{\\left(1 - F(x_i'\\beta) \\right)} \\right)\n",
    "\\end{align*}\n",
    "\n",
    "Denote $-\\frac{1}{n} \\sum_{i=1}^{n} \\left(y_i\\log{F(x_i'\\beta)} + (1-y_i)\\log{\\left(1 - F(x_i'\\beta) \\right)} \\right) = Q(\\beta)$. Then, the gradient is\n",
    "\\begin{align*}\n",
    "    \\nabla Q(\\beta) & = \\frac{\\partial}{\\partial\\beta} Q(\\beta) \\\\\n",
    "    & = -\\frac{1}{n} \\sum_{i=1}^{n} \\left(\\frac{y_i}{F(x_i'\\beta)} - \\frac{1-y_i}{1-F(x_i'\\beta)} \\right) f(x_i'\\beta)x_i \\\\\n",
    "    & = -\\frac{1}{n} \\sum_{i=1}^{n} \\frac{y_i-F(x_i'\\beta)}{F(x_i'\\beta) \\left(1-F(x_i'\\beta) \\right)} f(x_i'\\beta)x_i\n",
    "\\end{align*}\n",
    "\n",
    "The Hessian is\n",
    "\\begin{align*}\n",
    "    \\nabla^2 Q(\\beta) & = -\\frac{1}{n} \\sum_{i=1}^{n} \\frac{f(x_i'\\beta)^2}{F(x_i'\\beta) \\left(1-F(x_i'\\beta) \\right)} x_i x_i'\n",
    "\\end{align*}\n",
    "\n",
    "For logit, $F(x_i'\\beta) = \\frac{\\exp{x_i'\\beta}}{1+\\exp{x_i'\\beta}}$, and $f(x_i'\\beta) = \\left(\\frac{\\exp{x_i'\\beta}}{1+\\exp{x_i'\\beta}} \\right) \\left(1 - \\frac{\\exp{x_i'\\beta}}{1+\\exp{x_i'\\beta}} \\right) = F(x_i'\\beta) \\left(1-F(x_i'\\beta)\\right)$.\n",
    "\n",
    "For probit, $F(x_i'\\beta) = \\Phi(x_i'\\beta)$, and $f(x_i'\\beta) = \\phi(x_i'\\beta)$, where $\\Phi(\\cdot)$ and $\\phi(\\cdot)$ are the standard normal CDF and PDF, respectively."
   ]
  },
  {
   "cell_type": "code",
   "execution_count": 10,
   "id": "21a7240f",
   "metadata": {},
   "outputs": [],
   "source": [
    "#Define the cost and gradient functions for logit.\n",
    "logit_cost <- function(X, y, beta) {\n",
    "    return(-mean(y*log(exp(X%*%beta)/(1+exp(X%*%beta))) + (1-y)*log(1-exp(X%*%beta)/(1+exp(X%*%beta)))))\n",
    "}\n",
    "\n",
    "logit_gradient <- function(X, y, beta) {\n",
    "    return(-t(X) %*% (y - exp(X%*%beta)/(1 + exp(X%*%beta))) / length(y))\n",
    "}\n",
    "\n",
    "logit_hessian <- function(X, y, beta) {\n",
    "    H_hat <- matrix(0, nrow = ncol(X), ncol = ncol(X))\n",
    "    for (i in 1:length(y)) {\n",
    "        H_hat <- H_hat + -X[i, ] %*% t(X[i, ]) *\n",
    "            as.numeric((1/(1+exp(-t(X[i, ])%*%beta))) * (1-(1/(1+exp(-t(X[i, ])%*%beta)))))\n",
    "    }\n",
    "    return(H_hat / length(y))\n",
    "}"
   ]
  },
  {
   "cell_type": "markdown",
   "id": "b2db6442",
   "metadata": {},
   "source": [
    "## Test the algorithm for logit on synthetic data."
   ]
  },
  {
   "cell_type": "code",
   "execution_count": 11,
   "id": "a417a03f",
   "metadata": {},
   "outputs": [
    {
     "data": {
      "text/html": [
       "<table class=\"dataframe\">\n",
       "<caption>A matrix: 5 × 1 of type dbl</caption>\n",
       "<tbody>\n",
       "\t<tr><th scope=row>(Intercept)</th><td> 0.4161762124</td></tr>\n",
       "\t<tr><th scope=row>x1</th><td> 0.0090180079</td></tr>\n",
       "\t<tr><th scope=row>x2</th><td>-0.0318122563</td></tr>\n",
       "\t<tr><th scope=row>x3</th><td>-0.0014710907</td></tr>\n",
       "\t<tr><th scope=row>x4</th><td> 0.0008547123</td></tr>\n",
       "</tbody>\n",
       "</table>\n"
      ],
      "text/latex": [
       "A matrix: 5 × 1 of type dbl\n",
       "\\begin{tabular}{r|l}\n",
       "\t(Intercept) &  0.4161762124\\\\\n",
       "\tx1 &  0.0090180079\\\\\n",
       "\tx2 & -0.0318122563\\\\\n",
       "\tx3 & -0.0014710907\\\\\n",
       "\tx4 &  0.0008547123\\\\\n",
       "\\end{tabular}\n"
      ],
      "text/markdown": [
       "\n",
       "A matrix: 5 × 1 of type dbl\n",
       "\n",
       "| (Intercept) |  0.4161762124 |\n",
       "| x1 |  0.0090180079 |\n",
       "| x2 | -0.0318122563 |\n",
       "| x3 | -0.0014710907 |\n",
       "| x4 |  0.0008547123 |\n",
       "\n"
      ],
      "text/plain": [
       "            [,1]         \n",
       "(Intercept)  0.4161762124\n",
       "x1           0.0090180079\n",
       "x2          -0.0318122563\n",
       "x3          -0.0014710907\n",
       "x4           0.0008547123"
      ]
     },
     "metadata": {},
     "output_type": "display_data"
    }
   ],
   "source": [
    "set.seed(888)\n",
    "n <- 10000\n",
    "y <- runif(n) > 0.4\n",
    "X <- cbind(Intercept = rep(1, n), x1 = rnorm(n, 0, 2), x2 = runif(n, -2, 1), x3 = rnorm(n, 4, 1), x4 = rnorm(n, -3, 5))\n",
    "data <- data.frame(y, X)\n",
    "\n",
    "builtin <- glm(y ~ x1 + x2 + x3 + x4, data = data, family = binomial(link = \"logit\"))\n",
    "coef(builtin) %>% as.matrix()"
   ]
  },
  {
   "cell_type": "code",
   "execution_count": 12,
   "id": "78ac6dd0",
   "metadata": {},
   "outputs": [
    {
     "data": {
      "text/html": [
       "<table class=\"dataframe\">\n",
       "<caption>A matrix: 5 × 3 of type dbl</caption>\n",
       "<thead>\n",
       "\t<tr><th></th><th scope=col>GD, line search, alpha = 0.8</th><th scope=col>GD, line search, alpha = 0.1</th><th scope=col>BFGS, alpha = 0.1</th></tr>\n",
       "</thead>\n",
       "<tbody>\n",
       "\t<tr><th scope=row>Intercept</th><td> 0.4152896476</td><td> 0.2322796413</td><td> 0.4161762124</td></tr>\n",
       "\t<tr><th scope=row>x1</th><td> 0.0090203362</td><td> 0.0095064768</td><td> 0.0090180079</td></tr>\n",
       "\t<tr><th scope=row>x2</th><td>-0.0318481777</td><td>-0.0392917096</td><td>-0.0318122563</td></tr>\n",
       "\t<tr><th scope=row>x3</th><td>-0.0012704475</td><td> 0.0401856108</td><td>-0.0014710907</td></tr>\n",
       "\t<tr><th scope=row>x4</th><td> 0.0008488198</td><td>-0.0003678496</td><td> 0.0008547123</td></tr>\n",
       "</tbody>\n",
       "</table>\n"
      ],
      "text/latex": [
       "A matrix: 5 × 3 of type dbl\n",
       "\\begin{tabular}{r|lll}\n",
       "  & GD, line search, alpha = 0.8 & GD, line search, alpha = 0.1 & BFGS, alpha = 0.1\\\\\n",
       "\\hline\n",
       "\tIntercept &  0.4152896476 &  0.2322796413 &  0.4161762124\\\\\n",
       "\tx1 &  0.0090203362 &  0.0095064768 &  0.0090180079\\\\\n",
       "\tx2 & -0.0318481777 & -0.0392917096 & -0.0318122563\\\\\n",
       "\tx3 & -0.0012704475 &  0.0401856108 & -0.0014710907\\\\\n",
       "\tx4 &  0.0008488198 & -0.0003678496 &  0.0008547123\\\\\n",
       "\\end{tabular}\n"
      ],
      "text/markdown": [
       "\n",
       "A matrix: 5 × 3 of type dbl\n",
       "\n",
       "| <!--/--> | GD, line search, alpha = 0.8 | GD, line search, alpha = 0.1 | BFGS, alpha = 0.1 |\n",
       "|---|---|---|---|\n",
       "| Intercept |  0.4152896476 |  0.2322796413 |  0.4161762124 |\n",
       "| x1 |  0.0090203362 |  0.0095064768 |  0.0090180079 |\n",
       "| x2 | -0.0318481777 | -0.0392917096 | -0.0318122563 |\n",
       "| x3 | -0.0012704475 |  0.0401856108 | -0.0014710907 |\n",
       "| x4 |  0.0008488198 | -0.0003678496 |  0.0008547123 |\n",
       "\n"
      ],
      "text/plain": [
       "          GD, line search, alpha = 0.8 GD, line search, alpha = 0.1\n",
       "Intercept  0.4152896476                 0.2322796413               \n",
       "x1         0.0090203362                 0.0095064768               \n",
       "x2        -0.0318481777                -0.0392917096               \n",
       "x3        -0.0012704475                 0.0401856108               \n",
       "x4         0.0008488198                -0.0003678496               \n",
       "          BFGS, alpha = 0.1\n",
       "Intercept  0.4161762124    \n",
       "x1         0.0090180079    \n",
       "x2        -0.0318122563    \n",
       "x3        -0.0014710907    \n",
       "x4         0.0008547123    "
      ]
     },
     "metadata": {},
     "output_type": "display_data"
    }
   ],
   "source": [
    "betalist_gd08_ls <- gradient_descent(X, y, alpha = 0.8, linesearch = TRUE, num_iters = 300,\n",
    "                                     error_func = logit_cost, grad_func = logit_gradient)\n",
    "betalist_gd01_ls <- gradient_descent(X, y, linesearch = TRUE, num_iters = 300,\n",
    "                                     error_func = logit_cost, grad_func = logit_gradient)\n",
    "betalist_bfgs <- bfgs(X, y, error_func = logit_cost, grad_func = logit_gradient, num_iters = 300)\n",
    "\n",
    "display <- cbind(betalist_gd08_ls[[1]], betalist_gd01_ls[[1]], betalist_bfgs[[1]])\n",
    "colnames(display) <- c(\"GD, line search, alpha = 0.8\", \"GD, line search, alpha = 0.1\", \"BFGS, alpha = 0.1\")\n",
    "display"
   ]
  },
  {
   "cell_type": "code",
   "execution_count": 13,
   "id": "19c3ac03",
   "metadata": {},
   "outputs": [
    {
     "data": {
      "image/png": "[encoded data removed]",
      "text/plain": [
       "Plot with title \"Path of convergence\""
      ]
     },
     "metadata": {
      "image/png": {
       "height": 600,
       "width": 720
      }
     },
     "output_type": "display_data"
    }
   ],
   "source": [
    "#Visualize the path of convergence.\n",
    "plot(log(betalist_gd08_ls[[2]]), col = 'blue', main = 'Path of convergence', ylab = 'Log(errors)', xlab = 'Iterations')\n",
    "points(log(betalist_gd01_ls[[2]]), col = 'green')\n",
    "points(log(betalist_bfgs[[2]]), col = 'red')\n",
    "legend(\"topright\", legend = c(\"GD, line search, alpha = 0.8\", \"GD, line search, alpha = 0.1\", \"BFGS, alpha = 0.1\"),\n",
    "       col = c(\"blue\", \"green\", \"red\"), bty = \"o\", pch = 1, cex = 1.2)"
   ]
  },
  {
   "cell_type": "markdown",
   "id": "86a8375f",
   "metadata": {},
   "source": [
    "In the logistic regression case, BFGS outperformed the best gradient descent configuration we got from Project 1, which was line search combined with $\\alpha_t = 0.8$. It is also impressive that BFGS took less than $100$ iterations to converge on a logit model, which is in general much harder to fit than OLS. On the other hand, Newton's method is unusable here because the Hessian is not guaranteed to be positive definite or even invertible."
   ]
  },
  {
   "cell_type": "markdown",
   "id": "388e3095",
   "metadata": {},
   "source": [
    "## Test the algorithm for probit."
   ]
  },
  {
   "cell_type": "code",
   "execution_count": 14,
   "id": "24191c35",
   "metadata": {},
   "outputs": [],
   "source": [
    "#Define the cost and gradient functions for probit.\n",
    "probit_cost <- function(X, y, beta) {\n",
    "    return(-mean(y*log(pnorm(X%*%beta)) + (1-y)*log(1-pnorm(X%*%beta))))\n",
    "}\n",
    "\n",
    "probit_gradient <- function(X, y, beta) {\n",
    "    return(-t(X) %*% ((y-pnorm(X%*%beta))/(pnorm(X%*%beta)*(1-pnorm(X%*%beta)))*dnorm(X%*%beta)) / length(y))\n",
    "}\n",
    "\n",
    "probit_hessian <- function(X, y, beta) {\n",
    "    H_hat <- matrix(0, nrow = ncol(X), ncol = ncol(X))\n",
    "    for (i in 1:length(y)) {\n",
    "        H_hat <- H_hat + -X[i, ] %*% t(X[i, ]) *\n",
    "            as.numeric((dnorm(t(X[i, ])%*%beta)^2) / (pnorm(t(X[i, ])%*%beta) * (1-pnorm(t(X[i, ])%*%beta))))\n",
    "    }\n",
    "    return(H_hat / length(y))\n",
    "}"
   ]
  },
  {
   "cell_type": "code",
   "execution_count": 15,
   "id": "1607faeb",
   "metadata": {},
   "outputs": [
    {
     "data": {
      "text/html": [
       "<table class=\"dataframe\">\n",
       "<caption>A matrix: 5 × 1 of type dbl</caption>\n",
       "<tbody>\n",
       "\t<tr><th scope=row>(Intercept)</th><td> 0.2599022393</td></tr>\n",
       "\t<tr><th scope=row>x1</th><td> 0.0055922210</td></tr>\n",
       "\t<tr><th scope=row>x2</th><td>-0.0197340040</td></tr>\n",
       "\t<tr><th scope=row>x3</th><td>-0.0008900177</td></tr>\n",
       "\t<tr><th scope=row>x4</th><td> 0.0005318751</td></tr>\n",
       "</tbody>\n",
       "</table>\n"
      ],
      "text/latex": [
       "A matrix: 5 × 1 of type dbl\n",
       "\\begin{tabular}{r|l}\n",
       "\t(Intercept) &  0.2599022393\\\\\n",
       "\tx1 &  0.0055922210\\\\\n",
       "\tx2 & -0.0197340040\\\\\n",
       "\tx3 & -0.0008900177\\\\\n",
       "\tx4 &  0.0005318751\\\\\n",
       "\\end{tabular}\n"
      ],
      "text/markdown": [
       "\n",
       "A matrix: 5 × 1 of type dbl\n",
       "\n",
       "| (Intercept) |  0.2599022393 |\n",
       "| x1 |  0.0055922210 |\n",
       "| x2 | -0.0197340040 |\n",
       "| x3 | -0.0008900177 |\n",
       "| x4 |  0.0005318751 |\n",
       "\n"
      ],
      "text/plain": [
       "            [,1]         \n",
       "(Intercept)  0.2599022393\n",
       "x1           0.0055922210\n",
       "x2          -0.0197340040\n",
       "x3          -0.0008900177\n",
       "x4           0.0005318751"
      ]
     },
     "metadata": {},
     "output_type": "display_data"
    }
   ],
   "source": [
    "builtin <- glm(y ~ x1 + x2 + x3 + x4, data = data, family = binomial(link = \"probit\"))\n",
    "coef(builtin) %>% as.matrix()"
   ]
  },
  {
   "cell_type": "code",
   "execution_count": 16,
   "id": "25b5db43",
   "metadata": {},
   "outputs": [
    {
     "data": {
      "text/html": [
       "<table class=\"dataframe\">\n",
       "<caption>A matrix: 5 × 3 of type dbl</caption>\n",
       "<thead>\n",
       "\t<tr><th></th><th scope=col>GD, line search, alpha = 0.1</th><th scope=col>GD, line search, alpha = 0.01</th><th scope=col>BFGS, alpha = 0.01</th></tr>\n",
       "</thead>\n",
       "<tbody>\n",
       "\t<tr><th scope=row>Intercept</th><td> 0.2595557291</td><td> 0.1322193500</td><td> 0.2598865271</td></tr>\n",
       "\t<tr><th scope=row>x1</th><td> 0.0055931732</td><td> 0.0059448993</td><td> 0.0055920012</td></tr>\n",
       "\t<tr><th scope=row>x2</th><td>-0.0197481606</td><td>-0.0249563420</td><td>-0.0197333612</td></tr>\n",
       "\t<tr><th scope=row>x3</th><td>-0.0008116104</td><td> 0.0280140755</td><td>-0.0008885584</td></tr>\n",
       "\t<tr><th scope=row>x4</th><td> 0.0005295621</td><td>-0.0003202064</td><td> 0.0005316788</td></tr>\n",
       "</tbody>\n",
       "</table>\n"
      ],
      "text/latex": [
       "A matrix: 5 × 3 of type dbl\n",
       "\\begin{tabular}{r|lll}\n",
       "  & GD, line search, alpha = 0.1 & GD, line search, alpha = 0.01 & BFGS, alpha = 0.01\\\\\n",
       "\\hline\n",
       "\tIntercept &  0.2595557291 &  0.1322193500 &  0.2598865271\\\\\n",
       "\tx1 &  0.0055931732 &  0.0059448993 &  0.0055920012\\\\\n",
       "\tx2 & -0.0197481606 & -0.0249563420 & -0.0197333612\\\\\n",
       "\tx3 & -0.0008116104 &  0.0280140755 & -0.0008885584\\\\\n",
       "\tx4 &  0.0005295621 & -0.0003202064 &  0.0005316788\\\\\n",
       "\\end{tabular}\n"
      ],
      "text/markdown": [
       "\n",
       "A matrix: 5 × 3 of type dbl\n",
       "\n",
       "| <!--/--> | GD, line search, alpha = 0.1 | GD, line search, alpha = 0.01 | BFGS, alpha = 0.01 |\n",
       "|---|---|---|---|\n",
       "| Intercept |  0.2595557291 |  0.1322193500 |  0.2598865271 |\n",
       "| x1 |  0.0055931732 |  0.0059448993 |  0.0055920012 |\n",
       "| x2 | -0.0197481606 | -0.0249563420 | -0.0197333612 |\n",
       "| x3 | -0.0008116104 |  0.0280140755 | -0.0008885584 |\n",
       "| x4 |  0.0005295621 | -0.0003202064 |  0.0005316788 |\n",
       "\n"
      ],
      "text/plain": [
       "          GD, line search, alpha = 0.1 GD, line search, alpha = 0.01\n",
       "Intercept  0.2595557291                 0.1322193500                \n",
       "x1         0.0055931732                 0.0059448993                \n",
       "x2        -0.0197481606                -0.0249563420                \n",
       "x3        -0.0008116104                 0.0280140755                \n",
       "x4         0.0005295621                -0.0003202064                \n",
       "          BFGS, alpha = 0.01\n",
       "Intercept  0.2598865271     \n",
       "x1         0.0055920012     \n",
       "x2        -0.0197333612     \n",
       "x3        -0.0008885584     \n",
       "x4         0.0005316788     "
      ]
     },
     "metadata": {},
     "output_type": "display_data"
    }
   ],
   "source": [
    "betalist_gd01_ls <- gradient_descent(X, y, linesearch = TRUE, num_iters = 10^3,\n",
    "                                     error_func = probit_cost, grad_func = probit_gradient)\n",
    "betalist_gd001_ls <- gradient_descent(X, y, alpha = 0.01, linesearch = TRUE, num_iters = 10^3,\n",
    "                                      error_func = probit_cost, grad_func = probit_gradient)\n",
    "betalist_bfgs <- bfgs(X, y, error_func = probit_cost, grad_func = probit_gradient, alpha = 0.01, num_iters = 10^3)\n",
    "\n",
    "display <- cbind(betalist_gd01_ls[[1]], betalist_gd001_ls[[1]], betalist_bfgs[[1]])\n",
    "colnames(display) <- c(\"GD, line search, alpha = 0.1\", \"GD, line search, alpha = 0.01\", \"BFGS, alpha = 0.01\")\n",
    "display"
   ]
  },
  {
   "cell_type": "code",
   "execution_count": 17,
   "id": "6da9cd4e",
   "metadata": {},
   "outputs": [
    {
     "data": {
      "image/png": "[encoded data removed]",
      "text/plain": [
       "Plot with title \"Path of convergence\""
      ]
     },
     "metadata": {
      "image/png": {
       "height": 600,
       "width": 720
      }
     },
     "output_type": "display_data"
    }
   ],
   "source": [
    "#Visualize the path of convergence.\n",
    "plot(log(betalist_gd01_ls[[2]]), col = 'blue', main = 'Path of convergence', ylab = 'Log(errors)', xlab = 'Iterations')\n",
    "points(log(betalist_gd001_ls[[2]]), col = 'green')\n",
    "points(log(betalist_bfgs[[2]]), col = 'red')\n",
    "legend(\"topright\", legend = c(\"GD, line search, alpha = 0.1\", \"GD, line search, alpha = 0.01\", \"BFGS, alpha = 0.01\"),\n",
    "       col = c(\"blue\", \"green\", \"red\"), bty = \"o\", pch = 1, cex = 1.2)"
   ]
  },
  {
   "cell_type": "markdown",
   "id": "79618513",
   "metadata": {},
   "source": [
    "Firstly, Newton's method is still unusable in the probit case for the same reason. Compared with the logit case, both gradient descent and BFGS suffer from numeric overflow or underflow in the probit case due to the way R computes the standard normal densities (easy to get $1$ or $0$). When we used $\\alpha_t \\ge 0.4$ with gradient descent, the algorithm diverged to infinity fairly quickly. When we used $\\alpha_t \\ge 0.3$ with BFGS, the line search algorithm began returning infinity. If we compare the two methods at $\\alpha_t = 0.01$, then BFGS performed way better than gradient descent."
   ]
  },
  {
   "cell_type": "markdown",
   "id": "4fa81f29",
   "metadata": {},
   "source": [
    "## BFGS can successfully fit logit and probit models on economics data.\n",
    "Here we try to apply the gradient descent algorithm to fit a logit and a probit model on the 1970s German creditworthiness data ($n = 1000$ creditors). In Project 1, we showed that gradient descent did not work with logit or probit models on this data."
   ]
  },
  {
   "cell_type": "code",
   "execution_count": 18,
   "id": "f26c2670",
   "metadata": {},
   "outputs": [],
   "source": [
    "repayment <- read.csv(\"C:/Users/yanbo/OneDrive/Stanford MS&E 311 Optimization/repayment.csv\")\n",
    "X <- model.matrix(repaid ~ age + telephone + amount + duration, data = repayment)\n",
    "y <- repayment$repaid"
   ]
  },
  {
   "cell_type": "markdown",
   "id": "0f8ebe95",
   "metadata": {},
   "source": [
    "### Try logit."
   ]
  },
  {
   "cell_type": "code",
   "execution_count": null,
   "id": "3a596578",
   "metadata": {},
   "outputs": [],
   "source": [
    "logit <- glm(repaid ~ age + telephone + amount + duration, data = repayment, family = binomial(link = \"logit\"))\n",
    "betalist_gd <- gradient_descent(X, y, error_func = logit_cost, grad_func = logit_gradient, linesearch = TRUE,\n",
    "                                alpha = 0.000001, num_iters = 2.5*10^6)\n",
    "betalist_bfgs <- bfgs(X, y, error_func = logit_cost, grad_func = logit_gradient, alpha = 0.000005, num_iters = 2.5*10^6)\n",
    "opt <- optim(par = rep(0, ncol(X)), fn = logit_cost, gr = logit_gradient, y = y, X = X, method = \"BFGS\")\n",
    "\n",
    "display <- cbind(coef(logit), opt$par, betalist_gd[[1]], betalist_bfgs[[1]])\n",
    "colnames(display) <- c(\"glm()\", \"optim(), BFGS\", \"GD, line search, alpha = 0.000001\", \"BFGS, alpha = 0.000005\")\n",
    "display"
   ]
  },
  {
   "cell_type": "markdown",
   "id": "49349b2b",
   "metadata": {},
   "source": [
    "### Try probit."
   ]
  },
  {
   "cell_type": "code",
   "execution_count": null,
   "id": "e980db56",
   "metadata": {},
   "outputs": [],
   "source": [
    "probit <- glm(repaid ~ age + telephone + amount + duration, data = repayment, family = binomial(link = \"probit\"))\n",
    "betalist_gd <- gradient_descent(X, y, error_func = probit_cost, grad_func = probit_gradient, linesearch = TRUE,\n",
    "                                alpha = 0.000001, num_iters = 3*10^6)\n",
    "betalist_bfgs <- bfgs(X, y, error_func = probit_cost, grad_func = probit_gradient, alpha = 0.000005, num_iters = 3*10^6)\n",
    "opt <- optim(par = rep(0, ncol(X)), fn = probit_cost, gr = probit_gradient, y = y, X = X, method = \"BFGS\")\n",
    "\n",
    "display <- cbind(coef(probit), opt$par, betalist_gd[[1]], betalist_bfgs[[1]])\n",
    "colnames(display) <- c(\"glm()\", \"optim(), BFGS\", \"GD, line search, alpha = 0.000001\", \"BFGS, alpha = 0.000005\")\n",
    "display"
   ]
  },
  {
   "cell_type": "markdown",
   "id": "9f5dfe22",
   "metadata": {},
   "source": [
    "Although my BFGS function does work on the 1970s German creditworthiness data, it has to do so with a super small learning rate $\\alpha_t = 0.000005$ and a huge number of iterations. In contrast, R optim(), a general-purpose optimizer (minimizer), can return decent estimates in a blink of an eye. Inspired by this, I hope to learn techniques (maybe preconditioning) to improve my BFGS in CME 364A in the summer."
   ]
  }
 ],
 "metadata": {
  "kernelspec": {
   "display_name": "R",
   "language": "R",
   "name": "ir"
  },
  "language_info": {
   "codemirror_mode": "r",
   "file_extension": ".r",
   "mimetype": "text/x-r-source",
   "name": "R",
   "pygments_lexer": "r",
   "version": "4.1.3"
  }
 },
 "nbformat": 4,
 "nbformat_minor": 5
}
