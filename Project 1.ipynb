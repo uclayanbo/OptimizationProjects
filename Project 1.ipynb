{
 "cells": [
  {
   "cell_type": "markdown",
   "id": "dea8e006",
   "metadata": {},
   "source": [
    "# Project 1 - Generalized Linear Models with Gradient Descent\n",
    "\n",
    "## Yan Bo Zeng"
   ]
  },
  {
   "cell_type": "code",
   "execution_count": 2,
   "id": "f13ea0ba",
   "metadata": {},
   "outputs": [],
   "source": [
    "library(dplyr)\n",
    "library(repr)\n",
    "options(repr.plot.width = 12, repr.plot.height = 10)\n",
    "options(scipen = 999)"
   ]
  },
  {
   "cell_type": "markdown",
   "id": "2014a25c",
   "metadata": {},
   "source": [
    "# 1. Ordinary Least Squares"
   ]
  },
  {
   "cell_type": "markdown",
   "id": "8bd983f2",
   "metadata": {},
   "source": [
    "Recall the ordinary least squares model $y_i = x_i'\\beta + \\epsilon_i$. The maximum likelihood estimator (MLE) for the coefficient parameter $\\beta$ is\n",
    "\\begin{align*}\n",
    "    \\hat{\\beta} & = \\arg\\max_{\\beta \\in \\mathbb{R}^k} -\\frac{1}{2n} \\sum_{i=1}^{n} \\left(y_i - x_i'\\beta \\right)^2 \\\\\n",
    "    & = \\arg\\min_{\\beta \\in \\mathbb{R}^k} \\frac{1}{2n} \\sum_{i=1}^{n} \\left(y_i - x_i'\\beta \\right)^2\n",
    "\\end{align*}\n",
    "\n",
    "Denote $\\frac{1}{2n} \\sum_{i=1}^{n} \\left(y_i - x_i'\\beta \\right)^2 = Q(\\beta)$, $X$ as the model matrix including the intercept term, and $Y$ as the outcome vector. Then, the gradient is\n",
    "\\begin{align*}\n",
    "    \\nabla Q(\\beta) & = \\frac{\\partial}{\\partial\\beta} Q(\\beta) \\\\\n",
    "    & = \\frac{1}{n} \\sum_{i=1}^{n} \\left(y_i - x_i'\\beta \\right)x_i \\\\\n",
    "    & = \\frac{1}{n} X'\\left(Y - X\\beta \\right)\n",
    "\\end{align*}\n",
    "\n",
    "Thus, given a learning rate $\\alpha_t$, gradient descent will iterate on\n",
    "\\begin{align*}\n",
    "    \\hat{\\beta}_{t+1} & = \\hat{\\beta}_{t} + \\alpha_t \\nabla Q(\\hat{\\beta}_{t}) \\\\\n",
    "    & = \\hat{\\beta}_{t} + \\alpha_t \\frac{1}{n} X'\\left(Y - X\\hat{\\beta}_{t} \\right)\n",
    "\\end{align*}"
   ]
  },
  {
   "cell_type": "code",
   "execution_count": 3,
   "id": "b3f1dd08",
   "metadata": {},
   "outputs": [],
   "source": [
    "#Define the cost and gradient functions for OLS.\n",
    "OLS_cost <- function(X, y, beta) {\n",
    "    return(mean((y - X %*% beta)^2) / 2)\n",
    "}\n",
    "\n",
    "OLS_gradient <- function(X, y, beta) {\n",
    "    return(t(X) %*% (y - X %*% beta) / length(y))\n",
    "}"
   ]
  },
  {
   "cell_type": "code",
   "execution_count": 4,
   "id": "f529df84",
   "metadata": {},
   "outputs": [],
   "source": [
    "#Define the gradient descent function.\n",
    "gradient_descent <- function(X, y, beta_init = rep(0, ncol(X)), alpha = 0.01, num_iters = 10^4,\n",
    "                             error_func = OLS_cost, grad_func = OLS_gradient, history_var = \"log(price)\",\n",
    "                             linesearch = FALSE, linesearch_c = 0.1) {\n",
    "    \n",
    "    #Record beta for one of the coefficients and errors (cost values) from each iteration.\n",
    "    beta_history <- rep(0, num_iters)\n",
    "    error_history <- rep(0, num_iters)\n",
    "    \n",
    "    #Initialize beta.\n",
    "    beta <- beta_init\n",
    "    \n",
    "    #Record alpha for line search.\n",
    "    alpha_init <- alpha\n",
    "    \n",
    "    #Implement gradient descent.\n",
    "    for (i in 1:num_iters) {\n",
    "        error_old <- error_func(X, y, beta)\n",
    "        delta <- grad_func(X, y, beta)\n",
    "        beta <- beta + alpha * delta\n",
    "        \n",
    "        #Implement backtracking line search.\n",
    "        if (linesearch == TRUE) {\n",
    "            while (error_func(X, y, beta) > (error_old - linesearch_c*alpha*(norm(delta)^2))) {\n",
    "                error_old <- error_func(X, y, beta)\n",
    "                alpha = alpha / 2\n",
    "                delta <- grad_func(X, y, beta)\n",
    "                beta <- beta + alpha * delta\n",
    "            }\n",
    "            alpha <- alpha_init\n",
    "        }\n",
    "        \n",
    "        error_history[i] <- error_func(X, y, beta)\n",
    "        beta_history[i] <- beta[history_var, 1]\n",
    "    }\n",
    "    \n",
    "    #Return the history for plotting.\n",
    "    return(list(beta, error_history, beta_history))\n",
    "}"
   ]
  },
  {
   "cell_type": "markdown",
   "id": "391d21bd",
   "metadata": {},
   "source": [
    "## Test the algorithm on orange juice advertisement data.\n",
    "Firstly, we use the R built-in glm() package to obtain the coefficient estimates."
   ]
  },
  {
   "cell_type": "code",
   "execution_count": 5,
   "id": "c8108a4d",
   "metadata": {},
   "outputs": [
    {
     "data": {
      "text/html": [
       "<table class=\"dataframe\">\n",
       "<caption>A matrix: 4 × 1 of type dbl</caption>\n",
       "<tbody>\n",
       "\t<tr><th scope=row>(Intercept)</th><td>10.8288216</td></tr>\n",
       "\t<tr><th scope=row>log(price)</th><td>-3.1386914</td></tr>\n",
       "\t<tr><th scope=row>brandminute.maid</th><td> 0.8701747</td></tr>\n",
       "\t<tr><th scope=row>brandtropicana</th><td> 1.5299428</td></tr>\n",
       "</tbody>\n",
       "</table>\n"
      ],
      "text/latex": [
       "A matrix: 4 × 1 of type dbl\n",
       "\\begin{tabular}{r|l}\n",
       "\t(Intercept) & 10.8288216\\\\\n",
       "\tlog(price) & -3.1386914\\\\\n",
       "\tbrandminute.maid &  0.8701747\\\\\n",
       "\tbrandtropicana &  1.5299428\\\\\n",
       "\\end{tabular}\n"
      ],
      "text/markdown": [
       "\n",
       "A matrix: 4 × 1 of type dbl\n",
       "\n",
       "| (Intercept) | 10.8288216 |\n",
       "| log(price) | -3.1386914 |\n",
       "| brandminute.maid |  0.8701747 |\n",
       "| brandtropicana |  1.5299428 |\n",
       "\n"
      ],
      "text/plain": [
       "                 [,1]      \n",
       "(Intercept)      10.8288216\n",
       "log(price)       -3.1386914\n",
       "brandminute.maid  0.8701747\n",
       "brandtropicana    1.5299428"
      ]
     },
     "metadata": {},
     "output_type": "display_data"
    }
   ],
   "source": [
    "oj <- read.csv(\"C:/Users/yanbo/OneDrive/Stanford MS&E 311 Optimization/oj.csv\")\n",
    "X <- model.matrix(log(sales) ~ log(price) + brand, data = oj)\n",
    "y <- log(oj$sales)\n",
    "\n",
    "builtin <- glm(formula = log(sales) ~ log(price) + brand, data = oj)\n",
    "coef(builtin) %>% as.matrix()"
   ]
  },
  {
   "cell_type": "markdown",
   "id": "57863312",
   "metadata": {},
   "source": [
    "Then, we can try different learning rates and use line search to help us find a good one."
   ]
  },
  {
   "cell_type": "code",
   "execution_count": 6,
   "id": "7d5d37a5",
   "metadata": {},
   "outputs": [
    {
     "data": {
      "text/html": [
       "<table class=\"dataframe\">\n",
       "<caption>A matrix: 4 × 5 of type dbl</caption>\n",
       "<tbody>\n",
       "\t<tr><th scope=row>(Intercept)</th><td>10.599653</td><td>10.8288216</td><td>10.8288216</td><td>NaN</td><td>10.8288216</td></tr>\n",
       "\t<tr><th scope=row>log(price)</th><td>-2.677485</td><td>-3.1386914</td><td>-3.1386914</td><td>NaN</td><td>-3.1386914</td></tr>\n",
       "\t<tr><th scope=row>brandminute.maid</th><td> 0.723648</td><td> 0.8701747</td><td> 0.8701747</td><td>NaN</td><td> 0.8701747</td></tr>\n",
       "\t<tr><th scope=row>brandtropicana</th><td> 1.261710</td><td> 1.5299428</td><td> 1.5299428</td><td>NaN</td><td> 1.5299428</td></tr>\n",
       "</tbody>\n",
       "</table>\n"
      ],
      "text/latex": [
       "A matrix: 4 × 5 of type dbl\n",
       "\\begin{tabular}{r|lllll}\n",
       "\t(Intercept) & 10.599653 & 10.8288216 & 10.8288216 & NaN & 10.8288216\\\\\n",
       "\tlog(price) & -2.677485 & -3.1386914 & -3.1386914 & NaN & -3.1386914\\\\\n",
       "\tbrandminute.maid &  0.723648 &  0.8701747 &  0.8701747 & NaN &  0.8701747\\\\\n",
       "\tbrandtropicana &  1.261710 &  1.5299428 &  1.5299428 & NaN &  1.5299428\\\\\n",
       "\\end{tabular}\n"
      ],
      "text/markdown": [
       "\n",
       "A matrix: 4 × 5 of type dbl\n",
       "\n",
       "| (Intercept) | 10.599653 | 10.8288216 | 10.8288216 | NaN | 10.8288216 |\n",
       "| log(price) | -2.677485 | -3.1386914 | -3.1386914 | NaN | -3.1386914 |\n",
       "| brandminute.maid |  0.723648 |  0.8701747 |  0.8701747 | NaN |  0.8701747 |\n",
       "| brandtropicana |  1.261710 |  1.5299428 |  1.5299428 | NaN |  1.5299428 |\n",
       "\n"
      ],
      "text/plain": [
       "                 [,1]      [,2]       [,3]       [,4] [,5]      \n",
       "(Intercept)      10.599653 10.8288216 10.8288216 NaN  10.8288216\n",
       "log(price)       -2.677485 -3.1386914 -3.1386914 NaN  -3.1386914\n",
       "brandminute.maid  0.723648  0.8701747  0.8701747 NaN   0.8701747\n",
       "brandtropicana    1.261710  1.5299428  1.5299428 NaN   1.5299428"
      ]
     },
     "metadata": {},
     "output_type": "display_data"
    }
   ],
   "source": [
    "betalist001 <- gradient_descent(X, y)\n",
    "betalist01 <- gradient_descent(X, y, alpha = 0.1)\n",
    "betalist04 <- gradient_descent(X, y, alpha = 0.4)\n",
    "betalist2 <- gradient_descent(X, y, alpha = 2)\n",
    "betalist_ls <- gradient_descent(X, y, alpha = 2, linesearch = TRUE)\n",
    "cbind(betalist001[[1]], betalist01[[1]], betalist04[[1]], betalist2[[1]], betalist_ls[[1]])"
   ]
  },
  {
   "cell_type": "code",
   "execution_count": 7,
   "id": "52ed7b42",
   "metadata": {},
   "outputs": [
    {
     "data": {
      "image/png": "[encoded data removed]",
      "text/plain": [
       "Plot with title \"Path of convergence\""
      ]
     },
     "metadata": {
      "image/png": {
       "height": 600,
       "width": 720
      }
     },
     "output_type": "display_data"
    }
   ],
   "source": [
    "#Visualize the path of convergence.\n",
    "plot(log(betalist01[[2]]), col = 'blue', main = 'Path of convergence', ylab = 'Log(errors)', xlab = 'Iterations')\n",
    "points(log(betalist001[[2]]), col = 'red')\n",
    "points(log(betalist04[[2]]), col = 'green')\n",
    "points(log(betalist_ls[[2]]), col = 'orange')"
   ]
  },
  {
   "cell_type": "markdown",
   "id": "dbe9a8c9",
   "metadata": {},
   "source": [
    "Line search is really helpful in preventing the algo from blowing up and finding a decent learning rate.\n",
    "\n",
    "Learning rate of 2 blows up, returning NAs for all coefficients."
   ]
  },
  {
   "cell_type": "markdown",
   "id": "e9bc005e",
   "metadata": {},
   "source": [
    "# 2. Logistic and Probit Regressions"
   ]
  },
  {
   "cell_type": "markdown",
   "id": "04e17769",
   "metadata": {},
   "source": [
    "Recall that in logit and probit models, $\\hat{\\beta}$ is obtained by maximizing the log-likelihood function or equivalently minimizing the cross-entropy loss function.\n",
    "\\begin{align*}\n",
    "    \\hat{\\beta} & = \\arg\\max_{\\beta \\in \\mathbb{R}^k} \\prod_{i=1}^{n} F(x_i'\\beta)^{y_i} \\left(1 - F(x_i'\\beta) \\right)^{1-y_i} \\\\\n",
    "    & = \\arg\\min_{\\beta \\in \\mathbb{R}^k} -\\log{\\left( \\prod_{i=1}^{n} F(x_i'\\beta)^{y_i} \\left(1 - F(x_i'\\beta) \\right)^{1-y_i} \\right)} \\\\\n",
    "    & = \\arg\\min_{\\beta \\in \\mathbb{R}^k} -\\frac{1}{n} \\sum_{i=1}^{n} \\left(y_i\\log{F(x_i'\\beta)} + (1-y_i)\\log{\\left(1 - F(x_i'\\beta) \\right)} \\right)\n",
    "\\end{align*}\n",
    "\n",
    "Denote $-\\frac{1}{n} \\sum_{i=1}^{n} \\left(y_i\\log{F(x_i'\\beta)} + (1-y_i)\\log{\\left(1 - F(x_i'\\beta) \\right)} \\right) = Q(\\beta)$. Then, the gradient is\n",
    "\\begin{align*}\n",
    "    \\nabla Q(\\beta) & = \\frac{\\partial}{\\partial\\beta} Q(\\beta) \\\\\n",
    "    & = -\\frac{1}{n} \\sum_{i=1}^{n} \\left(\\frac{y_i}{F(x_i'\\beta)} - \\frac{1-y_i}{1-F(x_i'\\beta)} \\right) f(x_i'\\beta)x_i \\\\\n",
    "    & = -\\frac{1}{n} \\sum_{i=1}^{n} \\frac{y_i-F(x_i'\\beta)}{F(x_i'\\beta) \\left(1-F(x_i'\\beta)\\right)} f(x_i'\\beta)x_i\n",
    "\\end{align*}\n",
    "\n",
    "For logit, $F(x_i'\\beta) = \\frac{\\exp{x_i'\\beta}}{1+\\exp{x_i'\\beta}}$.\n",
    "\n",
    "For probit, $F(x_i'\\beta) = \\Phi(x_i'\\beta)$, and $f(x_i'\\beta) = \\phi(x_i'\\beta)$, where $\\Phi(\\cdot)$ and $\\phi(\\cdot)$ are the standard normal CDF and PDF, respectively."
   ]
  },
  {
   "cell_type": "code",
   "execution_count": null,
   "id": "33b82213",
   "metadata": {},
   "outputs": [],
   "source": [
    "#Define the cost and gradient functions for logit.\n",
    "logit_cost <- function(X, y, beta) {\n",
    "    return(mean((y - X %*% beta)^2) / 2)\n",
    "}\n",
    "\n",
    "logit_gradient <- function(X, y, beta) {\n",
    "    return(t(X) %*% (y - X %*% beta) / length(y))\n",
    "}"
   ]
  },
  {
   "cell_type": "code",
   "execution_count": null,
   "id": "a356a161",
   "metadata": {},
   "outputs": [],
   "source": []
  },
  {
   "cell_type": "code",
   "execution_count": null,
   "id": "ccdaf6f8",
   "metadata": {},
   "outputs": [],
   "source": [
    "#Sigmoid function for logistic regression\n",
    "sigmoid <- function(z)\n",
    "{\n",
    "  g <- 1/(1+exp(-z))\n",
    "  return(g)\n",
    "}\n",
    "\n",
    "#Loss Function for gradient descent (logistic regression)\n",
    "cost <- function(beta)\n",
    "{\n",
    "  m <- nrow(X)\n",
    "  g <- sigmoid(X%*%beta)\n",
    "  J <- (1/m)*sum((-Y*log(g)) - ((1-Y)*log(1-g)))\n",
    "  return(J)\n",
    "}"
   ]
  },
  {
   "cell_type": "code",
   "execution_count": null,
   "id": "24e44897",
   "metadata": {},
   "outputs": [],
   "source": [
    "mroz <- read.csv(\"C:/Users/yanbo/OneDrive/Stanford ECON 271 Intermediate Econometrics II/Problem Sets/mroz.csv\")\n",
    "x <- model.matrix(part ~ kidslt6 + age + educ + nwifeinc, data = mroz)\n",
    "y <- mroz$part\n",
    "n <- length(y)\n",
    "\n",
    "log_likelihood <- function(y, x, beta) {\n",
    "  return(-sum(y*log(pnorm(x%*%beta)) + (1-y)*log(1-pnorm(x%*%beta))))\n",
    "}\n",
    "\n",
    "gradient <- function(y, x, beta) {\n",
    "  scalar <- y*(dnorm(x%*%beta)/pnorm(x%*%beta)) - (1-y)*(dnorm(x%*%beta)/(1-pnorm(x%*%beta)))\n",
    "  s <- rep(0, 5)\n",
    "  for (i in 1:n) {\n",
    "    s <- s + (scalar[i]*x[i, ])\n",
    "  }\n",
    "  return(-s/n)\n",
    "}\n",
    "\n",
    "#With the help of analytical gradient.\n",
    "answer <- optim(par = rep(0, 5), fn = log_likelihood, gr = gradient, y = y, x = x, method = \"BFGS\")\n",
    "beta_hat <- answer$par\n",
    "names(beta_hat) <- colnames(x)\n",
    "beta_hat\n",
    "\n",
    "#Without the help of analytical gradient -- Seems better here.\n",
    "answer <- optim(par = rep(0, 5), fn = log_likelihood, y = y, x = x, method = \"BFGS\")\n",
    "beta_hat <- answer$par\n",
    "names(beta_hat) <- colnames(x)\n",
    "beta_hat\n",
    "\n",
    "#glm() for checking.\n",
    "myprobit <- glm(part ~ kidslt6 + age + educ + nwifeinc, family = binomial(link = \"probit\"), data = mroz)\n",
    "summary(myprobit)"
   ]
  },
  {
   "cell_type": "code",
   "execution_count": null,
   "id": "e2c92743",
   "metadata": {},
   "outputs": [],
   "source": []
  },
  {
   "cell_type": "code",
   "execution_count": null,
   "id": "90c770ee",
   "metadata": {},
   "outputs": [],
   "source": []
  }
 ],
 "metadata": {
  "kernelspec": {
   "display_name": "R",
   "language": "R",
   "name": "ir"
  },
  "language_info": {
   "codemirror_mode": "r",
   "file_extension": ".r",
   "mimetype": "text/x-r-source",
   "name": "R",
   "pygments_lexer": "r",
   "version": "4.1.3"
  }
 },
 "nbformat": 4,
 "nbformat_minor": 5
}
