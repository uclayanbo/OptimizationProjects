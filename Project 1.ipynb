{
 "cells": [
  {
   "cell_type": "markdown",
   "id": "dea8e006",
   "metadata": {},
   "source": [
    "# Project 1 - Generalized Linear Models with Gradient Descent\n",
    "\n",
    "## Yan Bo Zeng"
   ]
  },
  {
   "cell_type": "code",
   "execution_count": 3,
   "id": "f13ea0ba",
   "metadata": {},
   "outputs": [],
   "source": [
    "library(sandwich)\n",
    "library(AER)\n",
    "library(dplyr)\n",
    "options(scipen = 999)"
   ]
  },
  {
   "cell_type": "markdown",
   "id": "8bd983f2",
   "metadata": {},
   "source": [
    "Recall the ordinary least squares model $y_i = x_i'\\beta + \\epsilon_i$, the maximum likelihood estimator (MLE) for the coefficient parameter $\\beta$ is\n",
    "$$\\hat{\\beta} = \\arg\\max_{\\beta \\in \\mathbb{R}^k} -\\frac{1}{2n} \\sum_{i=1}^{n} \\left(y_i - x_i'\\beta \\right)^2 \\\\ = \\arg\\min_{\\beta \\in \\mathbb{R}^k} \\frac{1}{2n} \\sum_{i=1}^{n} \\left(y_i - x_i'\\beta \\right)^2$$\n",
    "\n",
    "Denote $\\frac{1}{2n} \\sum_{i=1}^{n} \\left(y_i - x_i'\\beta \\right)^2 = Q(\\beta)$, $X$ as the model matrix including the intercept term, and $Y$ as the outcome vector. Then, the gradient\n",
    "$$\\nabla Q(\\beta) = \\frac{\\partial}{\\partial\\beta} Q(\\beta) \\\\ = \\frac{1}{n} \\sum_{i=1}^{n} \\left(y_i - x_i'\\beta \\right)x_i \\\\ = \\frac{1}{n} X'\\left(Y - X\\beta \\right)$$\n",
    "\n",
    "Thus, given learning rate $\\alpha_t$, gradient descent will iterate on\n",
    "$$\\hat{\\beta}_{t+1} = \\hat{\\beta}_{t} + \\alpha_t \\nabla Q(\\hat{\\beta}_{t}) = \\hat{\\beta}_{t} + \\alpha_t \\frac{1}{n} X'\\left(Y - X\\hat{\\beta}_{t} \\right)$$"
   ]
  },
  {
   "cell_type": "code",
   "execution_count": 10,
   "id": "b3f1dd08",
   "metadata": {},
   "outputs": [],
   "source": [
    "OLS_gradient_descent <- function(X, y, beta_init = rep(0, dim(X)[2]), alpha = 0.01, num_iters = 10^5, history_var = \"log(price)\") {\n",
    "    \n",
    "    #Record beta for one of the coefficients from each iteration.\n",
    "    beta_history <- rep(0, num_iters)\n",
    "    \n",
    "    #Initialize beta.\n",
    "    beta <- beta_init\n",
    "    \n",
    "    #Implement gradient descent for OLS regression.\n",
    "    for (i in 1:num_iters) {\n",
    "        delta <- t(X) %*% (y - X %*% beta) / length(y)\n",
    "        beta <- beta + alpha * delta\n",
    "        beta_history[i] <- beta[history_var, 1]\n",
    "    }\n",
    "    \n",
    "    #Return the history for plotting.\n",
    "    return(list(beta, beta_history))\n",
    "}"
   ]
  },
  {
   "cell_type": "markdown",
   "id": "391d21bd",
   "metadata": {},
   "source": [
    "## Test the algorithm on orange juice advertisement data.\n",
    "Firstly, we use the R built-in glm() package to obtain the coefficient estimates."
   ]
  },
  {
   "cell_type": "code",
   "execution_count": 12,
   "id": "c8108a4d",
   "metadata": {},
   "outputs": [
    {
     "data": {
      "text/plain": [
       "\n",
       "Call:\n",
       "glm(formula = log(sales) ~ log(price) + brand, data = oj)\n",
       "\n",
       "Deviance Residuals: \n",
       "    Min       1Q   Median       3Q      Max  \n",
       "-5.3152  -0.5246  -0.0502   0.4929   3.5088  \n",
       "\n",
       "Coefficients:\n",
       "                 Estimate Std. Error t value            Pr(>|t|)    \n",
       "(Intercept)      10.82882    0.01453  745.04 <0.0000000000000002 ***\n",
       "log(price)       -3.13869    0.02293 -136.89 <0.0000000000000002 ***\n",
       "brandminute.maid  0.87017    0.01293   67.32 <0.0000000000000002 ***\n",
       "brandtropicana    1.52994    0.01631   93.81 <0.0000000000000002 ***\n",
       "---\n",
       "Signif. codes:  0 '***' 0.001 '**' 0.01 '*' 0.05 '.' 0.1 ' ' 1\n",
       "\n",
       "(Dispersion parameter for gaussian family taken to be 0.6296804)\n",
       "\n",
       "    Null deviance: 30079  on 28946  degrees of freedom\n",
       "Residual deviance: 18225  on 28943  degrees of freedom\n",
       "AIC: 68765\n",
       "\n",
       "Number of Fisher Scoring iterations: 2\n"
      ]
     },
     "metadata": {},
     "output_type": "display_data"
    }
   ],
   "source": [
    "oj <- read.csv(\"C:/Users/yanbo/OneDrive/Stanford MS&E 311 Optimization/oj.csv\")\n",
    "X <- model.matrix(log(sales) ~ log(price) + brand, data = oj)\n",
    "y <- log(oj$sales)\n",
    "\n",
    "builtin <- glm(formula = log(sales) ~ log(price) + brand, data = oj)\n",
    "summary(builtin)"
   ]
  },
  {
   "cell_type": "markdown",
   "id": "57863312",
   "metadata": {},
   "source": [
    "### Learning rate = 0.01."
   ]
  },
  {
   "cell_type": "code",
   "execution_count": 8,
   "id": "6a3cb941",
   "metadata": {},
   "outputs": [
    {
     "data": {
      "text/html": [
       "<table class=\"dataframe\">\n",
       "<caption>A matrix: 4 × 1 of type dbl</caption>\n",
       "<tbody>\n",
       "\t<tr><th scope=row>(Intercept)</th><td>10.8288216</td></tr>\n",
       "\t<tr><th scope=row>log(price)</th><td>-3.1386914</td></tr>\n",
       "\t<tr><th scope=row>brandminute.maid</th><td> 0.8701747</td></tr>\n",
       "\t<tr><th scope=row>brandtropicana</th><td> 1.5299428</td></tr>\n",
       "</tbody>\n",
       "</table>\n"
      ],
      "text/latex": [
       "A matrix: 4 × 1 of type dbl\n",
       "\\begin{tabular}{r|l}\n",
       "\t(Intercept) & 10.8288216\\\\\n",
       "\tlog(price) & -3.1386914\\\\\n",
       "\tbrandminute.maid &  0.8701747\\\\\n",
       "\tbrandtropicana &  1.5299428\\\\\n",
       "\\end{tabular}\n"
      ],
      "text/markdown": [
       "\n",
       "A matrix: 4 × 1 of type dbl\n",
       "\n",
       "| (Intercept) | 10.8288216 |\n",
       "| log(price) | -3.1386914 |\n",
       "| brandminute.maid |  0.8701747 |\n",
       "| brandtropicana |  1.5299428 |\n",
       "\n"
      ],
      "text/plain": [
       "                 [,1]      \n",
       "(Intercept)      10.8288216\n",
       "log(price)       -3.1386914\n",
       "brandminute.maid  0.8701747\n",
       "brandtropicana    1.5299428"
      ]
     },
     "metadata": {},
     "output_type": "display_data"
    },
    {
     "data": {
      "image/png": "[encoded data removed]",
      "text/plain": [
       "Plot with title \"Path of convergence of the log(price) coef\""
      ]
     },
     "metadata": {
      "image/png": {
       "height": 420,
       "width": 420
      }
     },
     "output_type": "display_data"
    }
   ],
   "source": [
    "betalist <- OLS_gradient_descent(X, y)\n",
    "betalist[[1]]\n",
    "\n",
    "#Visualize the path of convergence.\n",
    "plot(betalist[[2]], col = 'blue', main = 'Path of convergence of the log(price) coef', ylab = 'beta', xlab = 'Iterations', ylim = c(-3.5, 3.5))\n",
    "points(x = length(betalist[[2]]), y = coef(builtin)['log(price)'], pch = 16, col = 'red')"
   ]
  },
  {
   "cell_type": "markdown",
   "id": "c72c2b21",
   "metadata": {},
   "source": [
    "### Learning rate = 0.1."
   ]
  },
  {
   "cell_type": "code",
   "execution_count": 9,
   "id": "ea840566",
   "metadata": {},
   "outputs": [
    {
     "data": {
      "text/html": [
       "<table class=\"dataframe\">\n",
       "<caption>A matrix: 4 × 1 of type dbl</caption>\n",
       "<tbody>\n",
       "\t<tr><th scope=row>(Intercept)</th><td>10.8288216</td></tr>\n",
       "\t<tr><th scope=row>log(price)</th><td>-3.1386914</td></tr>\n",
       "\t<tr><th scope=row>brandminute.maid</th><td> 0.8701747</td></tr>\n",
       "\t<tr><th scope=row>brandtropicana</th><td> 1.5299428</td></tr>\n",
       "</tbody>\n",
       "</table>\n"
      ],
      "text/latex": [
       "A matrix: 4 × 1 of type dbl\n",
       "\\begin{tabular}{r|l}\n",
       "\t(Intercept) & 10.8288216\\\\\n",
       "\tlog(price) & -3.1386914\\\\\n",
       "\tbrandminute.maid &  0.8701747\\\\\n",
       "\tbrandtropicana &  1.5299428\\\\\n",
       "\\end{tabular}\n"
      ],
      "text/markdown": [
       "\n",
       "A matrix: 4 × 1 of type dbl\n",
       "\n",
       "| (Intercept) | 10.8288216 |\n",
       "| log(price) | -3.1386914 |\n",
       "| brandminute.maid |  0.8701747 |\n",
       "| brandtropicana |  1.5299428 |\n",
       "\n"
      ],
      "text/plain": [
       "                 [,1]      \n",
       "(Intercept)      10.8288216\n",
       "log(price)       -3.1386914\n",
       "brandminute.maid  0.8701747\n",
       "brandtropicana    1.5299428"
      ]
     },
     "metadata": {},
     "output_type": "display_data"
    },
    {
     "data": {
      "image/png": "[encoded data removed]",
      "text/plain": [
       "Plot with title \"Path of convergence of the log(price) coef\""
      ]
     },
     "metadata": {
      "image/png": {
       "height": 420,
       "width": 420
      }
     },
     "output_type": "display_data"
    }
   ],
   "source": [
    "betalist <- OLS_gradient_descent(X, y, alpha = 0.1)\n",
    "betalist[[1]]\n",
    "\n",
    "#Visualize the path of convergence.\n",
    "plot(betalist[[2]], col = 'blue', main = 'Path of convergence of the log(price) coef', ylab = 'beta', xlab = 'Iterations', ylim = c(-3.5, 3.5))\n",
    "points(x = length(betalist[[2]]), y = coef(builtin)['log(price)'], pch = 16, col = 'red')"
   ]
  },
  {
   "cell_type": "code",
   "execution_count": null,
   "id": "6c840c90",
   "metadata": {},
   "outputs": [],
   "source": []
  }
 ],
 "metadata": {
  "kernelspec": {
   "display_name": "R",
   "language": "R",
   "name": "ir"
  },
  "language_info": {
   "codemirror_mode": "r",
   "file_extension": ".r",
   "mimetype": "text/x-r-source",
   "name": "R",
   "pygments_lexer": "r",
   "version": "4.1.3"
  }
 },
 "nbformat": 4,
 "nbformat_minor": 5
}
