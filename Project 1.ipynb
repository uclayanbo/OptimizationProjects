{
 "cells": [
  {
   "cell_type": "markdown",
   "id": "dea8e006",
   "metadata": {},
   "source": [
    "# Project 1 - Generalized Linear Models with Gradient Descent\n",
    "\n",
    "## Yan Bo Zeng"
   ]
  },
  {
   "cell_type": "code",
   "execution_count": 18,
   "id": "f13ea0ba",
   "metadata": {},
   "outputs": [],
   "source": [
    "library(dplyr)\n",
    "library(repr)\n",
    "options(repr.plot.width = 12, repr.plot.height = 10)\n",
    "options(scipen = 999)"
   ]
  },
  {
   "cell_type": "markdown",
   "id": "e2f5465f",
   "metadata": {},
   "source": [
    "# 1. Ordinary Least Squares"
   ]
  },
  {
   "cell_type": "markdown",
   "id": "8bd983f2",
   "metadata": {},
   "source": [
    "Recall the ordinary least squares model $y_i = x_i'\\beta + \\epsilon_i$. The maximum likelihood estimator (MLE) for the coefficient parameter $\\beta$ is\n",
    "\\begin{align*}\n",
    "    \\hat{\\beta} & = \\arg\\max_{\\beta \\in \\mathbb{R}^k} -\\frac{1}{2n} \\sum_{i=1}^{n} \\left(y_i - x_i'\\beta \\right)^2 \\\\\n",
    "    & = \\arg\\min_{\\beta \\in \\mathbb{R}^k} \\frac{1}{2n} \\sum_{i=1}^{n} \\left(y_i - x_i'\\beta \\right)^2\n",
    "\\end{align*}\n",
    "\n",
    "Denote $\\frac{1}{2n} \\sum_{i=1}^{n} \\left(y_i - x_i'\\beta \\right)^2 = Q(\\beta)$, $X$ as the model matrix including the intercept term, and $Y$ as the outcome vector. Then, the gradient is\n",
    "\\begin{align*}\n",
    "    \\nabla Q(\\beta) & = \\frac{\\partial}{\\partial\\beta} Q(\\beta) \\\\\n",
    "    & = -\\frac{1}{n} \\sum_{i=1}^{n} \\left(y_i - x_i'\\beta \\right)x_i \\\\\n",
    "    & = -\\frac{1}{n} X'\\left(Y - X\\beta \\right)\n",
    "\\end{align*}\n",
    "\n",
    "Thus, given a learning rate $\\alpha_t$, gradient descent will iterate on\n",
    "\\begin{align*}\n",
    "    \\hat{\\beta}_{t+1} & = \\hat{\\beta}_{t} - \\alpha_t \\nabla Q(\\hat{\\beta}_{t}) \\\\\n",
    "    & = \\hat{\\beta}_{t} + \\alpha_t \\frac{1}{n} X'\\left(Y - X\\hat{\\beta}_{t} \\right)\n",
    "\\end{align*}"
   ]
  },
  {
   "cell_type": "code",
   "execution_count": 2,
   "id": "b3f1dd08",
   "metadata": {},
   "outputs": [],
   "source": [
    "#Define the cost and gradient functions for OLS.\n",
    "OLS_cost <- function(X, y, beta) {\n",
    "    return(mean((y - X %*% beta)^2) / 2)\n",
    "}\n",
    "\n",
    "OLS_gradient <- function(X, y, beta) {\n",
    "    return(-t(X) %*% (y - X %*% beta) / length(y))\n",
    "}"
   ]
  },
  {
   "cell_type": "code",
   "execution_count": 3,
   "id": "8ee6185e",
   "metadata": {},
   "outputs": [],
   "source": [
    "#Define the gradient descent function.\n",
    "gradient_descent <- function(X, y, beta_init = rep(0, ncol(X)), alpha = 0.01, num_iters = 2*10^4,\n",
    "                             error_func = OLS_cost, grad_func = OLS_gradient, linesearch = FALSE, linesearch_c = 0.1) {\n",
    "    \n",
    "    #Record errors (cost values) from each iteration.\n",
    "    error_history <- rep(0, num_iters)\n",
    "    \n",
    "    #Initialize beta.\n",
    "    beta <- beta_init\n",
    "    \n",
    "    #Record alpha for line search.\n",
    "    alpha_init <- alpha\n",
    "    \n",
    "    #Implement gradient descent.\n",
    "    for (i in 1:num_iters) {\n",
    "        error_old <- error_func(X, y, beta)\n",
    "        delta <- grad_func(X, y, beta)\n",
    "        beta <- beta - alpha * delta\n",
    "        \n",
    "        #Implement backtracking line search.\n",
    "        if (linesearch == TRUE) {\n",
    "            while (error_func(X, y, beta) > (error_old - linesearch_c*alpha*(norm(delta)^2))) {\n",
    "                error_old <- error_func(X, y, beta)\n",
    "                alpha = alpha / 2\n",
    "                delta <- grad_func(X, y, beta)\n",
    "                beta <- beta - alpha * delta\n",
    "            }\n",
    "            alpha <- alpha_init\n",
    "        }\n",
    "        \n",
    "        error_history[i] <- error_func(X, y, beta)\n",
    "    }\n",
    "    \n",
    "    #Return the history for plotting.\n",
    "    return(list(beta, error_history))\n",
    "}"
   ]
  },
  {
   "cell_type": "markdown",
   "id": "391d21bd",
   "metadata": {},
   "source": [
    "## Test the algorithm on orange juice advertisement data.\n",
    "Firstly, we can use the R built-in glm() package to obtain a robust estimate of the coefficients."
   ]
  },
  {
   "cell_type": "code",
   "execution_count": 4,
   "id": "c8108a4d",
   "metadata": {},
   "outputs": [
    {
     "data": {
      "text/html": [
       "<table class=\"dataframe\">\n",
       "<caption>A matrix: 4 × 1 of type dbl</caption>\n",
       "<tbody>\n",
       "\t<tr><th scope=row>(Intercept)</th><td>10.8288216</td></tr>\n",
       "\t<tr><th scope=row>log(price)</th><td>-3.1386914</td></tr>\n",
       "\t<tr><th scope=row>brandminute.maid</th><td> 0.8701747</td></tr>\n",
       "\t<tr><th scope=row>brandtropicana</th><td> 1.5299428</td></tr>\n",
       "</tbody>\n",
       "</table>\n"
      ],
      "text/latex": [
       "A matrix: 4 × 1 of type dbl\n",
       "\\begin{tabular}{r|l}\n",
       "\t(Intercept) & 10.8288216\\\\\n",
       "\tlog(price) & -3.1386914\\\\\n",
       "\tbrandminute.maid &  0.8701747\\\\\n",
       "\tbrandtropicana &  1.5299428\\\\\n",
       "\\end{tabular}\n"
      ],
      "text/markdown": [
       "\n",
       "A matrix: 4 × 1 of type dbl\n",
       "\n",
       "| (Intercept) | 10.8288216 |\n",
       "| log(price) | -3.1386914 |\n",
       "| brandminute.maid |  0.8701747 |\n",
       "| brandtropicana |  1.5299428 |\n",
       "\n"
      ],
      "text/plain": [
       "                 [,1]      \n",
       "(Intercept)      10.8288216\n",
       "log(price)       -3.1386914\n",
       "brandminute.maid  0.8701747\n",
       "brandtropicana    1.5299428"
      ]
     },
     "metadata": {},
     "output_type": "display_data"
    }
   ],
   "source": [
    "oj <- read.csv(\"C:/Users/yanbo/OneDrive/Stanford MS&E 311 Optimization/oj.csv\")\n",
    "X <- model.matrix(log(sales) ~ log(price) + brand, data = oj)\n",
    "y <- log(oj$sales)\n",
    "\n",
    "builtin <- glm(log(sales) ~ log(price) + brand, data = oj)\n",
    "coef(builtin) %>% as.matrix()"
   ]
  },
  {
   "cell_type": "markdown",
   "id": "57863312",
   "metadata": {},
   "source": [
    "Then, we can try different learning rates or use line search to find an effective one."
   ]
  },
  {
   "cell_type": "code",
   "execution_count": 5,
   "id": "a1fc3cdb",
   "metadata": {},
   "outputs": [
    {
     "data": {
      "text/html": [
       "<table class=\"dataframe\">\n",
       "<caption>A matrix: 4 × 5 of type dbl</caption>\n",
       "<thead>\n",
       "\t<tr><th></th><th scope=col>alpha = 0.01</th><th scope=col>alpha = 0.1</th><th scope=col>alpha = 0.4</th><th scope=col>alpha = 2</th><th scope=col>alpha = 2, line search</th></tr>\n",
       "</thead>\n",
       "<tbody>\n",
       "\t<tr><th scope=row>(Intercept)</th><td>10.8104335</td><td>10.8288216</td><td>10.8288216</td><td>NaN</td><td>10.8288216</td></tr>\n",
       "\t<tr><th scope=row>log(price)</th><td>-3.1016483</td><td>-3.1386914</td><td>-3.1386914</td><td>NaN</td><td>-3.1386914</td></tr>\n",
       "\t<tr><th scope=row>brandminute.maid</th><td> 0.8583812</td><td> 0.8701747</td><td> 0.8701747</td><td>NaN</td><td> 0.8701747</td></tr>\n",
       "\t<tr><th scope=row>brandtropicana</th><td> 1.5083747</td><td> 1.5299428</td><td> 1.5299428</td><td>NaN</td><td> 1.5299428</td></tr>\n",
       "</tbody>\n",
       "</table>\n"
      ],
      "text/latex": [
       "A matrix: 4 × 5 of type dbl\n",
       "\\begin{tabular}{r|lllll}\n",
       "  & alpha = 0.01 & alpha = 0.1 & alpha = 0.4 & alpha = 2 & alpha = 2, line search\\\\\n",
       "\\hline\n",
       "\t(Intercept) & 10.8104335 & 10.8288216 & 10.8288216 & NaN & 10.8288216\\\\\n",
       "\tlog(price) & -3.1016483 & -3.1386914 & -3.1386914 & NaN & -3.1386914\\\\\n",
       "\tbrandminute.maid &  0.8583812 &  0.8701747 &  0.8701747 & NaN &  0.8701747\\\\\n",
       "\tbrandtropicana &  1.5083747 &  1.5299428 &  1.5299428 & NaN &  1.5299428\\\\\n",
       "\\end{tabular}\n"
      ],
      "text/markdown": [
       "\n",
       "A matrix: 4 × 5 of type dbl\n",
       "\n",
       "| <!--/--> | alpha = 0.01 | alpha = 0.1 | alpha = 0.4 | alpha = 2 | alpha = 2, line search |\n",
       "|---|---|---|---|---|---|\n",
       "| (Intercept) | 10.8104335 | 10.8288216 | 10.8288216 | NaN | 10.8288216 |\n",
       "| log(price) | -3.1016483 | -3.1386914 | -3.1386914 | NaN | -3.1386914 |\n",
       "| brandminute.maid |  0.8583812 |  0.8701747 |  0.8701747 | NaN |  0.8701747 |\n",
       "| brandtropicana |  1.5083747 |  1.5299428 |  1.5299428 | NaN |  1.5299428 |\n",
       "\n"
      ],
      "text/plain": [
       "                 alpha = 0.01 alpha = 0.1 alpha = 0.4 alpha = 2\n",
       "(Intercept)      10.8104335   10.8288216  10.8288216  NaN      \n",
       "log(price)       -3.1016483   -3.1386914  -3.1386914  NaN      \n",
       "brandminute.maid  0.8583812    0.8701747   0.8701747  NaN      \n",
       "brandtropicana    1.5083747    1.5299428   1.5299428  NaN      \n",
       "                 alpha = 2, line search\n",
       "(Intercept)      10.8288216            \n",
       "log(price)       -3.1386914            \n",
       "brandminute.maid  0.8701747            \n",
       "brandtropicana    1.5299428            "
      ]
     },
     "metadata": {},
     "output_type": "display_data"
    }
   ],
   "source": [
    "betalist001 <- gradient_descent(X, y)\n",
    "betalist01 <- gradient_descent(X, y, alpha = 0.1)\n",
    "betalist04 <- gradient_descent(X, y, alpha = 0.4)\n",
    "betalist2 <- gradient_descent(X, y, alpha = 2)\n",
    "betalist_ls <- gradient_descent(X, y, alpha = 2, linesearch = TRUE)\n",
    "\n",
    "display <- cbind(betalist001[[1]], betalist01[[1]], betalist04[[1]], betalist2[[1]], betalist_ls[[1]])\n",
    "colnames(display) <- c(\"alpha = 0.01\", \"alpha = 0.1\", \"alpha = 0.4\", \"alpha = 2\", \"alpha = 2, line search\")\n",
    "display"
   ]
  },
  {
   "cell_type": "code",
   "execution_count": 6,
   "id": "7e3cd164",
   "metadata": {},
   "outputs": [
    {
     "data": {
      "image/png": "[encoded data removed]",
      "text/plain": [
       "Plot with title \"Path of convergence\""
      ]
     },
     "metadata": {
      "image/png": {
       "height": 600,
       "width": 720
      }
     },
     "output_type": "display_data"
    }
   ],
   "source": [
    "#Visualize the path of convergence.\n",
    "plot(log(betalist01[[2]]), col = 'blue', main = 'Path of convergence', ylab = 'Log(errors)', xlab = 'Iterations')\n",
    "points(log(betalist001[[2]]), col = 'red')\n",
    "points(log(betalist04[[2]]), col = 'green')\n",
    "points(log(betalist2[[2]]), col = 'black')\n",
    "points(log(betalist_ls[[2]]), col = 'orange')\n",
    "legend(\"topright\", legend = c(\"alpha = 0.01\", \"alpha = 0.1\", \"alpha = 0.4\", \"alpha = 2\", \"alpha = 2, line search\"),\n",
    "       col = c(\"red\", \"blue\", \"green\", \"black\", \"orange\"), bty = \"o\", pch = 1, cex = 1.2)"
   ]
  },
  {
   "cell_type": "markdown",
   "id": "da028ad7",
   "metadata": {},
   "source": [
    "Here, using a learning rate of $0.01$ results in slow convergence, and therefore $\\hat{\\beta}$ cannot converge to the \"correct\" values within $20,000$ iterations. While learning rates of $0.1$ and $0.4$ perform very well, a learning rate of $2$ is too large, causing the algorithm to diverge and return NAs for all coefficients. On the other hand, the orange curve shows that line search is really helpful in finding a decent $\\alpha_t$ for fast convergence and preventing the algorithm from blowing up."
   ]
  },
  {
   "cell_type": "markdown",
   "id": "a407569b",
   "metadata": {},
   "source": [
    "# 2. Logistic and Probit Regressions"
   ]
  },
  {
   "cell_type": "markdown",
   "id": "f12a6ea4",
   "metadata": {},
   "source": [
    "Recall that in logit and probit models, $\\hat{\\beta}$ is obtained by maximizing the log-likelihood function or equivalently minimizing the cross-entropy loss function.\n",
    "\\begin{align*}\n",
    "    \\hat{\\beta} & = \\arg\\max_{\\beta \\in \\mathbb{R}^k} \\prod_{i=1}^{n} F(x_i'\\beta)^{y_i} \\left(1 - F(x_i'\\beta) \\right)^{1-y_i} \\\\\n",
    "    & = \\arg\\min_{\\beta \\in \\mathbb{R}^k} -\\log{\\left( \\prod_{i=1}^{n} F(x_i'\\beta)^{y_i} \\left(1 - F(x_i'\\beta) \\right)^{1-y_i} \\right)} \\\\\n",
    "    & = \\arg\\min_{\\beta \\in \\mathbb{R}^k} -\\frac{1}{n} \\sum_{i=1}^{n} \\left(y_i\\log{F(x_i'\\beta)} + (1-y_i)\\log{\\left(1 - F(x_i'\\beta) \\right)} \\right)\n",
    "\\end{align*}\n",
    "\n",
    "Denote $-\\frac{1}{n} \\sum_{i=1}^{n} \\left(y_i\\log{F(x_i'\\beta)} + (1-y_i)\\log{\\left(1 - F(x_i'\\beta) \\right)} \\right) = Q(\\beta)$. Then, the gradient is\n",
    "\\begin{align*}\n",
    "    \\nabla Q(\\beta) & = \\frac{\\partial}{\\partial\\beta} Q(\\beta) \\\\\n",
    "    & = -\\frac{1}{n} \\sum_{i=1}^{n} \\left(\\frac{y_i}{F(x_i'\\beta)} - \\frac{1-y_i}{1-F(x_i'\\beta)} \\right) f(x_i'\\beta)x_i \\\\\n",
    "    & = -\\frac{1}{n} \\sum_{i=1}^{n} \\frac{y_i-F(x_i'\\beta)}{F(x_i'\\beta) \\left(1-F(x_i'\\beta)\\right)} f(x_i'\\beta)x_i\n",
    "\\end{align*}\n",
    "\n",
    "For logit, $F(x_i'\\beta) = \\frac{\\exp{x_i'\\beta}}{1+\\exp{x_i'\\beta}}$, and $f(x_i'\\beta) = \\left(\\frac{\\exp{x_i'\\beta}}{1+\\exp{x_i'\\beta}} \\right) \\left(1 - \\frac{\\exp{x_i'\\beta}}{1+\\exp{x_i'\\beta}} \\right) = F(x_i'\\beta) \\left(1-F(x_i'\\beta)\\right)$.\n",
    "\n",
    "For probit, $F(x_i'\\beta) = \\Phi(x_i'\\beta)$, and $f(x_i'\\beta) = \\phi(x_i'\\beta)$, where $\\Phi(\\cdot)$ and $\\phi(\\cdot)$ are the standard normal CDF and PDF, respectively."
   ]
  },
  {
   "cell_type": "code",
   "execution_count": 7,
   "id": "21a7240f",
   "metadata": {},
   "outputs": [],
   "source": [
    "#Define the cost and gradient functions for logit.\n",
    "logit_cost <- function(X, y, beta) {\n",
    "    return(-mean(y*log(exp(X%*%beta)/(1+exp(X%*%beta))) + (1-y)*log(1-exp(X%*%beta)/(1+exp(X%*%beta)))))\n",
    "}\n",
    "\n",
    "logit_gradient <- function(X, y, beta) {\n",
    "    return(-t(X) %*% (y - exp(X%*%beta)/(1 + exp(X%*%beta))) / length(y))\n",
    "}"
   ]
  },
  {
   "cell_type": "markdown",
   "id": "b2db6442",
   "metadata": {},
   "source": [
    "## Test the algorithm for logit on synthetic data."
   ]
  },
  {
   "cell_type": "code",
   "execution_count": 8,
   "id": "a417a03f",
   "metadata": {},
   "outputs": [
    {
     "data": {
      "text/html": [
       "<table class=\"dataframe\">\n",
       "<caption>A matrix: 5 × 1 of type dbl</caption>\n",
       "<tbody>\n",
       "\t<tr><th scope=row>(Intercept)</th><td> 0.4161762124</td></tr>\n",
       "\t<tr><th scope=row>x1</th><td> 0.0090180079</td></tr>\n",
       "\t<tr><th scope=row>x2</th><td>-0.0318122563</td></tr>\n",
       "\t<tr><th scope=row>x3</th><td>-0.0014710907</td></tr>\n",
       "\t<tr><th scope=row>x4</th><td> 0.0008547123</td></tr>\n",
       "</tbody>\n",
       "</table>\n"
      ],
      "text/latex": [
       "A matrix: 5 × 1 of type dbl\n",
       "\\begin{tabular}{r|l}\n",
       "\t(Intercept) &  0.4161762124\\\\\n",
       "\tx1 &  0.0090180079\\\\\n",
       "\tx2 & -0.0318122563\\\\\n",
       "\tx3 & -0.0014710907\\\\\n",
       "\tx4 &  0.0008547123\\\\\n",
       "\\end{tabular}\n"
      ],
      "text/markdown": [
       "\n",
       "A matrix: 5 × 1 of type dbl\n",
       "\n",
       "| (Intercept) |  0.4161762124 |\n",
       "| x1 |  0.0090180079 |\n",
       "| x2 | -0.0318122563 |\n",
       "| x3 | -0.0014710907 |\n",
       "| x4 |  0.0008547123 |\n",
       "\n"
      ],
      "text/plain": [
       "            [,1]         \n",
       "(Intercept)  0.4161762124\n",
       "x1           0.0090180079\n",
       "x2          -0.0318122563\n",
       "x3          -0.0014710907\n",
       "x4           0.0008547123"
      ]
     },
     "metadata": {},
     "output_type": "display_data"
    }
   ],
   "source": [
    "set.seed(888)\n",
    "n <- 10000\n",
    "y <- runif(n) > 0.4\n",
    "X <- cbind(Intercept = rep(1, n), x1 = rnorm(n, 0, 2), x2 = runif(n, -2, 1), x3 = rnorm(n, 4, 1), x4 = rnorm(n, -3, 5))\n",
    "data <- data.frame(y, X)\n",
    "\n",
    "builtin <- glm(y ~ x1 + x2 + x3 + x4, data = data, family = binomial(link = \"logit\"))\n",
    "coef(builtin) %>% as.matrix()"
   ]
  },
  {
   "cell_type": "code",
   "execution_count": 9,
   "id": "bc018016",
   "metadata": {},
   "outputs": [
    {
     "data": {
      "text/html": [
       "<table class=\"dataframe\">\n",
       "<caption>A matrix: 5 × 5 of type dbl</caption>\n",
       "<thead>\n",
       "\t<tr><th></th><th scope=col>alpha = 0.01</th><th scope=col>alpha = 0.1</th><th scope=col>alpha = 0.4</th><th scope=col>alpha = 0.8</th><th scope=col>alpha = 0.8, line search</th></tr>\n",
       "</thead>\n",
       "<tbody>\n",
       "\t<tr><th scope=row>Intercept</th><td> 0.3849996501</td><td> 0.4161762124</td><td> 0.36384440</td><td> 0.48927135</td><td> 0.4161762121</td></tr>\n",
       "\t<tr><th scope=row>x1</th><td> 0.0091000374</td><td> 0.0090180079</td><td> 0.01458780</td><td> 0.02144048</td><td> 0.0090180079</td></tr>\n",
       "\t<tr><th scope=row>x2</th><td>-0.0330762659</td><td>-0.0318122563</td><td>-0.03679878</td><td>-0.06163636</td><td>-0.0318122561</td></tr>\n",
       "\t<tr><th scope=row>x3</th><td> 0.0055857081</td><td>-0.0014710907</td><td>-0.11527211</td><td>-0.06805416</td><td>-0.0014710922</td></tr>\n",
       "\t<tr><th scope=row>x4</th><td> 0.0006474896</td><td> 0.0008547123</td><td> 0.19756067</td><td> 0.20937828</td><td> 0.0008547152</td></tr>\n",
       "</tbody>\n",
       "</table>\n"
      ],
      "text/latex": [
       "A matrix: 5 × 5 of type dbl\n",
       "\\begin{tabular}{r|lllll}\n",
       "  & alpha = 0.01 & alpha = 0.1 & alpha = 0.4 & alpha = 0.8 & alpha = 0.8, line search\\\\\n",
       "\\hline\n",
       "\tIntercept &  0.3849996501 &  0.4161762124 &  0.36384440 &  0.48927135 &  0.4161762121\\\\\n",
       "\tx1 &  0.0091000374 &  0.0090180079 &  0.01458780 &  0.02144048 &  0.0090180079\\\\\n",
       "\tx2 & -0.0330762659 & -0.0318122563 & -0.03679878 & -0.06163636 & -0.0318122561\\\\\n",
       "\tx3 &  0.0055857081 & -0.0014710907 & -0.11527211 & -0.06805416 & -0.0014710922\\\\\n",
       "\tx4 &  0.0006474896 &  0.0008547123 &  0.19756067 &  0.20937828 &  0.0008547152\\\\\n",
       "\\end{tabular}\n"
      ],
      "text/markdown": [
       "\n",
       "A matrix: 5 × 5 of type dbl\n",
       "\n",
       "| <!--/--> | alpha = 0.01 | alpha = 0.1 | alpha = 0.4 | alpha = 0.8 | alpha = 0.8, line search |\n",
       "|---|---|---|---|---|---|\n",
       "| Intercept |  0.3849996501 |  0.4161762124 |  0.36384440 |  0.48927135 |  0.4161762121 |\n",
       "| x1 |  0.0091000374 |  0.0090180079 |  0.01458780 |  0.02144048 |  0.0090180079 |\n",
       "| x2 | -0.0330762659 | -0.0318122563 | -0.03679878 | -0.06163636 | -0.0318122561 |\n",
       "| x3 |  0.0055857081 | -0.0014710907 | -0.11527211 | -0.06805416 | -0.0014710922 |\n",
       "| x4 |  0.0006474896 |  0.0008547123 |  0.19756067 |  0.20937828 |  0.0008547152 |\n",
       "\n"
      ],
      "text/plain": [
       "          alpha = 0.01  alpha = 0.1   alpha = 0.4 alpha = 0.8\n",
       "Intercept  0.3849996501  0.4161762124  0.36384440  0.48927135\n",
       "x1         0.0091000374  0.0090180079  0.01458780  0.02144048\n",
       "x2        -0.0330762659 -0.0318122563 -0.03679878 -0.06163636\n",
       "x3         0.0055857081 -0.0014710907 -0.11527211 -0.06805416\n",
       "x4         0.0006474896  0.0008547123  0.19756067  0.20937828\n",
       "          alpha = 0.8, line search\n",
       "Intercept  0.4161762121           \n",
       "x1         0.0090180079           \n",
       "x2        -0.0318122561           \n",
       "x3        -0.0014710922           \n",
       "x4         0.0008547152           "
      ]
     },
     "metadata": {},
     "output_type": "display_data"
    }
   ],
   "source": [
    "betalist001 <- gradient_descent(X, y, error_func = logit_cost, grad_func = logit_gradient)\n",
    "betalist01 <- gradient_descent(X, y, alpha = 0.1, error_func = logit_cost, grad_func = logit_gradient)\n",
    "betalist04 <- gradient_descent(X, y, alpha = 0.4, error_func = logit_cost, grad_func = logit_gradient)\n",
    "betalist08 <- gradient_descent(X, y, alpha = 0.8, error_func = logit_cost, grad_func = logit_gradient)\n",
    "betalist_ls <- gradient_descent(X, y, alpha = 0.8, linesearch = TRUE, linesearch_c = 0.3,\n",
    "                                error_func = logit_cost, grad_func = logit_gradient)\n",
    "\n",
    "display <- cbind(betalist001[[1]], betalist01[[1]], betalist04[[1]], betalist08[[1]], betalist_ls[[1]])\n",
    "colnames(display) <- c(\"alpha = 0.01\", \"alpha = 0.1\", \"alpha = 0.4\", \"alpha = 0.8\", \"alpha = 0.8, line search\")\n",
    "display"
   ]
  },
  {
   "cell_type": "code",
   "execution_count": 10,
   "id": "19c3ac03",
   "metadata": {},
   "outputs": [
    {
     "data": {
      "image/png": "[encoded data removed]",
      "text/plain": [
       "Plot with title \"Path of convergence\""
      ]
     },
     "metadata": {
      "image/png": {
       "height": 600,
       "width": 720
      }
     },
     "output_type": "display_data"
    }
   ],
   "source": [
    "#Visualize the path of convergence.\n",
    "plot(log(betalist01[[2]]), col = 'blue', main = 'Path of convergence', ylab = 'Log(errors)', xlab = 'Iterations')\n",
    "points(log(betalist001[[2]]), col = 'red')\n",
    "points(log(betalist04[[2]]), col = 'green')\n",
    "points(log(betalist08[[2]]), col = 'black')\n",
    "points(log(betalist_ls[[2]]), col = 'orange')\n",
    "legend(\"topright\", legend = c(\"alpha = 0.01\", \"alpha = 0.1\", \"alpha = 0.4\", \"alpha = 0.8\", \"alpha = 0.8, line search\"),\n",
    "       col = c(\"red\", \"blue\", \"green\", \"black\", \"orange\"), bty = \"o\", pch = 1, cex = 1.2)"
   ]
  },
  {
   "cell_type": "markdown",
   "id": "2b31e17b",
   "metadata": {},
   "source": [
    "In the logistic regression case, gradient descent converges slowly when using a learning rate of $0.01$, although we can see that it is on the right track. The algorithm diverges when the learning rate is $0.4$, and it begins bouncing around if we further increase the learning rate to $0.8$. After trying out different rates, we find that $\\alpha_t = 0.1$ works the best. However, if we include the time for testing various $\\alpha_t$'s, line search with an initial $\\alpha_t = 0.8$ takes the least amount of time to obtain the correct estimates."
   ]
  },
  {
   "cell_type": "markdown",
   "id": "388e3095",
   "metadata": {},
   "source": [
    "## Test the algorithm for probit."
   ]
  },
  {
   "cell_type": "code",
   "execution_count": 11,
   "id": "24191c35",
   "metadata": {},
   "outputs": [],
   "source": [
    "#Define the cost and gradient functions for probit.\n",
    "probit_cost <- function(X, y, beta) {\n",
    "    return(-mean(y*log(pnorm(X%*%beta)) + (1-y)*log(1-pnorm(X%*%beta))))\n",
    "}\n",
    "\n",
    "probit_gradient <- function(X, y, beta) {\n",
    "    return(-t(X) %*% ((y-pnorm(X%*%beta))/(pnorm(X%*%beta)*(1-pnorm(X%*%beta)))*dnorm(X%*%beta)) / length(y))\n",
    "}"
   ]
  },
  {
   "cell_type": "code",
   "execution_count": 12,
   "id": "1607faeb",
   "metadata": {},
   "outputs": [
    {
     "data": {
      "text/html": [
       "<table class=\"dataframe\">\n",
       "<caption>A matrix: 5 × 1 of type dbl</caption>\n",
       "<tbody>\n",
       "\t<tr><th scope=row>(Intercept)</th><td> 0.2599022393</td></tr>\n",
       "\t<tr><th scope=row>x1</th><td> 0.0055922210</td></tr>\n",
       "\t<tr><th scope=row>x2</th><td>-0.0197340040</td></tr>\n",
       "\t<tr><th scope=row>x3</th><td>-0.0008900177</td></tr>\n",
       "\t<tr><th scope=row>x4</th><td> 0.0005318751</td></tr>\n",
       "</tbody>\n",
       "</table>\n"
      ],
      "text/latex": [
       "A matrix: 5 × 1 of type dbl\n",
       "\\begin{tabular}{r|l}\n",
       "\t(Intercept) &  0.2599022393\\\\\n",
       "\tx1 &  0.0055922210\\\\\n",
       "\tx2 & -0.0197340040\\\\\n",
       "\tx3 & -0.0008900177\\\\\n",
       "\tx4 &  0.0005318751\\\\\n",
       "\\end{tabular}\n"
      ],
      "text/markdown": [
       "\n",
       "A matrix: 5 × 1 of type dbl\n",
       "\n",
       "| (Intercept) |  0.2599022393 |\n",
       "| x1 |  0.0055922210 |\n",
       "| x2 | -0.0197340040 |\n",
       "| x3 | -0.0008900177 |\n",
       "| x4 |  0.0005318751 |\n",
       "\n"
      ],
      "text/plain": [
       "            [,1]         \n",
       "(Intercept)  0.2599022393\n",
       "x1           0.0055922210\n",
       "x2          -0.0197340040\n",
       "x3          -0.0008900177\n",
       "x4           0.0005318751"
      ]
     },
     "metadata": {},
     "output_type": "display_data"
    }
   ],
   "source": [
    "builtin <- glm(y ~ x1 + x2 + x3 + x4, data = data, family = binomial(link = \"probit\"))\n",
    "coef(builtin) %>% as.matrix()"
   ]
  },
  {
   "cell_type": "code",
   "execution_count": 13,
   "id": "fa603629",
   "metadata": {},
   "outputs": [
    {
     "data": {
      "text/html": [
       "<table class=\"dataframe\">\n",
       "<caption>A matrix: 5 × 4 of type dbl</caption>\n",
       "<thead>\n",
       "\t<tr><th></th><th scope=col>alpha = 0.01</th><th scope=col>alpha = 0.1</th><th scope=col>alpha = 0.2</th><th scope=col>alpha = 0.2, line search</th></tr>\n",
       "</thead>\n",
       "<tbody>\n",
       "\t<tr><th scope=row>Intercept</th><td> 0.2595536275</td><td>NaN</td><td>NaN</td><td> 0.2599022390</td></tr>\n",
       "\t<tr><th scope=row>x1</th><td> 0.0055931789</td><td>NaN</td><td>NaN</td><td> 0.0055922211</td></tr>\n",
       "\t<tr><th scope=row>x2</th><td>-0.0197482465</td><td>NaN</td><td>NaN</td><td>-0.0197340041</td></tr>\n",
       "\t<tr><th scope=row>x3</th><td>-0.0008111348</td><td>NaN</td><td>NaN</td><td>-0.0008900179</td></tr>\n",
       "\t<tr><th scope=row>x4</th><td> 0.0005295480</td><td>NaN</td><td>NaN</td><td> 0.0005318755</td></tr>\n",
       "</tbody>\n",
       "</table>\n"
      ],
      "text/latex": [
       "A matrix: 5 × 4 of type dbl\n",
       "\\begin{tabular}{r|llll}\n",
       "  & alpha = 0.01 & alpha = 0.1 & alpha = 0.2 & alpha = 0.2, line search\\\\\n",
       "\\hline\n",
       "\tIntercept &  0.2595536275 & NaN & NaN &  0.2599022390\\\\\n",
       "\tx1 &  0.0055931789 & NaN & NaN &  0.0055922211\\\\\n",
       "\tx2 & -0.0197482465 & NaN & NaN & -0.0197340041\\\\\n",
       "\tx3 & -0.0008111348 & NaN & NaN & -0.0008900179\\\\\n",
       "\tx4 &  0.0005295480 & NaN & NaN &  0.0005318755\\\\\n",
       "\\end{tabular}\n"
      ],
      "text/markdown": [
       "\n",
       "A matrix: 5 × 4 of type dbl\n",
       "\n",
       "| <!--/--> | alpha = 0.01 | alpha = 0.1 | alpha = 0.2 | alpha = 0.2, line search |\n",
       "|---|---|---|---|---|\n",
       "| Intercept |  0.2595536275 | NaN | NaN |  0.2599022390 |\n",
       "| x1 |  0.0055931789 | NaN | NaN |  0.0055922211 |\n",
       "| x2 | -0.0197482465 | NaN | NaN | -0.0197340041 |\n",
       "| x3 | -0.0008111348 | NaN | NaN | -0.0008900179 |\n",
       "| x4 |  0.0005295480 | NaN | NaN |  0.0005318755 |\n",
       "\n"
      ],
      "text/plain": [
       "          alpha = 0.01  alpha = 0.1 alpha = 0.2 alpha = 0.2, line search\n",
       "Intercept  0.2595536275 NaN         NaN          0.2599022390           \n",
       "x1         0.0055931789 NaN         NaN          0.0055922211           \n",
       "x2        -0.0197482465 NaN         NaN         -0.0197340041           \n",
       "x3        -0.0008111348 NaN         NaN         -0.0008900179           \n",
       "x4         0.0005295480 NaN         NaN          0.0005318755           "
      ]
     },
     "metadata": {},
     "output_type": "display_data"
    }
   ],
   "source": [
    "betalist001 <- gradient_descent(X, y, error_func = probit_cost, grad_func = probit_gradient)\n",
    "betalist01 <- gradient_descent(X, y, alpha = 0.1, error_func = probit_cost, grad_func = probit_gradient)\n",
    "betalist02 <- gradient_descent(X, y, alpha = 0.2, error_func = probit_cost, grad_func = probit_gradient)\n",
    "betalist_ls <- gradient_descent(X, y, alpha = 0.2, linesearch = TRUE, linesearch_c = 0.3,\n",
    "                                error_func = probit_cost, grad_func = probit_gradient)\n",
    "\n",
    "display <- cbind(betalist001[[1]], betalist01[[1]], betalist02[[1]], betalist_ls[[1]])\n",
    "colnames(display) <- c(\"alpha = 0.01\", \"alpha = 0.1\", \"alpha = 0.2\", \"alpha = 0.2, line search\")\n",
    "display"
   ]
  },
  {
   "cell_type": "code",
   "execution_count": 14,
   "id": "ea70bc2e",
   "metadata": {},
   "outputs": [
    {
     "data": {
      "image/png": "[encoded data removed]",
      "text/plain": [
       "Plot with title \"Path of convergence\""
      ]
     },
     "metadata": {
      "image/png": {
       "height": 600,
       "width": 720
      }
     },
     "output_type": "display_data"
    }
   ],
   "source": [
    "#Visualize the path of convergence.\n",
    "plot(log(betalist01[[2]]), col = 'blue', main = 'Path of convergence', ylab = 'Log(errors)', xlab = 'Iterations',\n",
    "     ylim = c(-0.4, 0.3))\n",
    "points(log(betalist001[[2]]), col = 'red')\n",
    "points(log(betalist02[[2]]), col = 'black')\n",
    "points(log(betalist_ls[[2]]), col = 'orange')\n",
    "legend(\"topright\", legend = c(\"alpha = 0.01\", \"alpha = 0.1\", \"alpha = 0.2\", \"alpha = 0.2, line search\"),\n",
    "       col = c(\"red\", \"blue\", \"black\", \"orange\"), bty = \"o\", pch = 1, cex = 1.2)"
   ]
  },
  {
   "cell_type": "markdown",
   "id": "bb1be7db",
   "metadata": {},
   "source": [
    "Compared with the logit model, gradient descent for probit suffers more from numeric overflow or underflow due to the way R computes the standard normal densities (easy to get $1$ or $0$). Consequently, a learning rate of $0.1$ appears to be large enough for the algorithm to diverge. We have to use a small $\\alpha_t = 0.01$ to ensure convergence. When we have little prior knowledge about what learning rate to use, line search can still be useful in the probit case."
   ]
  },
  {
   "cell_type": "markdown",
   "id": "a0ac953d",
   "metadata": {},
   "source": [
    "## Gradient descent might not work well with logit or probit models on economics data.\n",
    "Here we try to apply the gradient descent algorithm to fit a logit and a probit model on the 1970s German creditworthiness data ($n = 1000$ creditors)."
   ]
  },
  {
   "cell_type": "code",
   "execution_count": 15,
   "id": "1b88f05c",
   "metadata": {},
   "outputs": [],
   "source": [
    "repayment <- read.csv(\"C:/Users/yanbo/OneDrive/Stanford MS&E 311 Optimization/repayment.csv\")\n",
    "X <- model.matrix(repaid ~ age + telephone + amount + duration, data = repayment)\n",
    "y <- repayment$repaid"
   ]
  },
  {
   "cell_type": "markdown",
   "id": "2b6490d4",
   "metadata": {},
   "source": [
    "### Try logit."
   ]
  },
  {
   "cell_type": "code",
   "execution_count": 16,
   "id": "c0d6c6a4",
   "metadata": {},
   "outputs": [
    {
     "data": {
      "text/html": [
       "<table class=\"dataframe\">\n",
       "<caption>A matrix: 5 × 6 of type dbl</caption>\n",
       "<thead>\n",
       "\t<tr><th></th><th scope=col>glm()</th><th scope=col>optim(), BFGS</th><th scope=col>alpha = 0.001</th><th scope=col>alpha = 0.01</th><th scope=col>alpha = 0.1</th><th scope=col>alpha = 0.2</th></tr>\n",
       "</thead>\n",
       "<tbody>\n",
       "\t<tr><th scope=row>(Intercept)</th><td> 1.003682766</td><td> 1.00381596723</td><td>NaN</td><td>NaN</td><td>NaN</td><td>NaN</td></tr>\n",
       "\t<tr><th scope=row>age</th><td> 0.016736147</td><td> 0.01674953954</td><td>NaN</td><td>NaN</td><td>NaN</td><td>NaN</td></tr>\n",
       "\t<tr><th scope=row>telephone</th><td> 0.336726184</td><td> 0.33632523323</td><td>NaN</td><td>NaN</td><td>NaN</td><td>NaN</td></tr>\n",
       "\t<tr><th scope=row>amount</th><td>-0.000045302</td><td>-0.00004526219</td><td>NaN</td><td>NaN</td><td>NaN</td><td>NaN</td></tr>\n",
       "\t<tr><th scope=row>duration</th><td>-0.033050297</td><td>-0.03308053324</td><td>NaN</td><td>NaN</td><td>NaN</td><td>NaN</td></tr>\n",
       "</tbody>\n",
       "</table>\n"
      ],
      "text/latex": [
       "A matrix: 5 × 6 of type dbl\n",
       "\\begin{tabular}{r|llllll}\n",
       "  & glm() & optim(), BFGS & alpha = 0.001 & alpha = 0.01 & alpha = 0.1 & alpha = 0.2\\\\\n",
       "\\hline\n",
       "\t(Intercept) &  1.003682766 &  1.00381596723 & NaN & NaN & NaN & NaN\\\\\n",
       "\tage &  0.016736147 &  0.01674953954 & NaN & NaN & NaN & NaN\\\\\n",
       "\ttelephone &  0.336726184 &  0.33632523323 & NaN & NaN & NaN & NaN\\\\\n",
       "\tamount & -0.000045302 & -0.00004526219 & NaN & NaN & NaN & NaN\\\\\n",
       "\tduration & -0.033050297 & -0.03308053324 & NaN & NaN & NaN & NaN\\\\\n",
       "\\end{tabular}\n"
      ],
      "text/markdown": [
       "\n",
       "A matrix: 5 × 6 of type dbl\n",
       "\n",
       "| <!--/--> | glm() | optim(), BFGS | alpha = 0.001 | alpha = 0.01 | alpha = 0.1 | alpha = 0.2 |\n",
       "|---|---|---|---|---|---|---|\n",
       "| (Intercept) |  1.003682766 |  1.00381596723 | NaN | NaN | NaN | NaN |\n",
       "| age |  0.016736147 |  0.01674953954 | NaN | NaN | NaN | NaN |\n",
       "| telephone |  0.336726184 |  0.33632523323 | NaN | NaN | NaN | NaN |\n",
       "| amount | -0.000045302 | -0.00004526219 | NaN | NaN | NaN | NaN |\n",
       "| duration | -0.033050297 | -0.03308053324 | NaN | NaN | NaN | NaN |\n",
       "\n"
      ],
      "text/plain": [
       "            glm()        optim(), BFGS  alpha = 0.001 alpha = 0.01 alpha = 0.1\n",
       "(Intercept)  1.003682766  1.00381596723 NaN           NaN          NaN        \n",
       "age          0.016736147  0.01674953954 NaN           NaN          NaN        \n",
       "telephone    0.336726184  0.33632523323 NaN           NaN          NaN        \n",
       "amount      -0.000045302 -0.00004526219 NaN           NaN          NaN        \n",
       "duration    -0.033050297 -0.03308053324 NaN           NaN          NaN        \n",
       "            alpha = 0.2\n",
       "(Intercept) NaN        \n",
       "age         NaN        \n",
       "telephone   NaN        \n",
       "amount      NaN        \n",
       "duration    NaN        "
      ]
     },
     "metadata": {},
     "output_type": "display_data"
    }
   ],
   "source": [
    "logit <- glm(repaid ~ age + telephone + amount + duration, data = repayment, family = binomial(link = \"logit\"))\n",
    "betalist0001 <- gradient_descent(X, y, alpha = 0.001, error_func = logit_cost, grad_func = logit_gradient)\n",
    "betalist001 <- gradient_descent(X, y, error_func = logit_cost, grad_func = logit_gradient)\n",
    "betalist01 <- gradient_descent(X, y, alpha = 0.1, error_func = logit_cost, grad_func = logit_gradient)\n",
    "betalist02 <- gradient_descent(X, y, alpha = 0.2, error_func = logit_cost, grad_func = logit_gradient)\n",
    "opt <- optim(par = rep(0, ncol(X)), fn = logit_cost, gr = logit_gradient, y = y, X = X, method = \"BFGS\")\n",
    "\n",
    "display <- cbind(coef(logit), opt$par, betalist0001[[1]], betalist001[[1]], betalist01[[1]], betalist02[[1]])\n",
    "colnames(display) <- c(\"glm()\", \"optim(), BFGS\", \"alpha = 0.001\", \"alpha = 0.01\", \"alpha = 0.1\", \"alpha = 0.2\")\n",
    "display"
   ]
  },
  {
   "cell_type": "markdown",
   "id": "8881ae32",
   "metadata": {},
   "source": [
    "### Try probit."
   ]
  },
  {
   "cell_type": "code",
   "execution_count": 17,
   "id": "a88c4086",
   "metadata": {},
   "outputs": [
    {
     "data": {
      "text/html": [
       "<table class=\"dataframe\">\n",
       "<caption>A matrix: 5 × 6 of type dbl</caption>\n",
       "<thead>\n",
       "\t<tr><th></th><th scope=col>glm()</th><th scope=col>optim(), BFGS</th><th scope=col>alpha = 0.001</th><th scope=col>alpha = 0.01</th><th scope=col>alpha = 0.1</th><th scope=col>alpha = 0.2</th></tr>\n",
       "</thead>\n",
       "<tbody>\n",
       "\t<tr><th scope=row>(Intercept)</th><td> 0.62832653262</td><td> 0.61845846081</td><td>NaN</td><td>NaN</td><td>NaN</td><td>NaN</td></tr>\n",
       "\t<tr><th scope=row>age</th><td> 0.00988129226</td><td> 0.00989370816</td><td>NaN</td><td>NaN</td><td>NaN</td><td>NaN</td></tr>\n",
       "\t<tr><th scope=row>telephone</th><td> 0.20658626188</td><td> 0.20330306818</td><td>NaN</td><td>NaN</td><td>NaN</td><td>NaN</td></tr>\n",
       "\t<tr><th scope=row>amount</th><td>-0.00002915846</td><td>-0.00002866031</td><td>NaN</td><td>NaN</td><td>NaN</td><td>NaN</td></tr>\n",
       "\t<tr><th scope=row>duration</th><td>-0.02001453860</td><td>-0.01972733973</td><td>NaN</td><td>NaN</td><td>NaN</td><td>NaN</td></tr>\n",
       "</tbody>\n",
       "</table>\n"
      ],
      "text/latex": [
       "A matrix: 5 × 6 of type dbl\n",
       "\\begin{tabular}{r|llllll}\n",
       "  & glm() & optim(), BFGS & alpha = 0.001 & alpha = 0.01 & alpha = 0.1 & alpha = 0.2\\\\\n",
       "\\hline\n",
       "\t(Intercept) &  0.62832653262 &  0.61845846081 & NaN & NaN & NaN & NaN\\\\\n",
       "\tage &  0.00988129226 &  0.00989370816 & NaN & NaN & NaN & NaN\\\\\n",
       "\ttelephone &  0.20658626188 &  0.20330306818 & NaN & NaN & NaN & NaN\\\\\n",
       "\tamount & -0.00002915846 & -0.00002866031 & NaN & NaN & NaN & NaN\\\\\n",
       "\tduration & -0.02001453860 & -0.01972733973 & NaN & NaN & NaN & NaN\\\\\n",
       "\\end{tabular}\n"
      ],
      "text/markdown": [
       "\n",
       "A matrix: 5 × 6 of type dbl\n",
       "\n",
       "| <!--/--> | glm() | optim(), BFGS | alpha = 0.001 | alpha = 0.01 | alpha = 0.1 | alpha = 0.2 |\n",
       "|---|---|---|---|---|---|---|\n",
       "| (Intercept) |  0.62832653262 |  0.61845846081 | NaN | NaN | NaN | NaN |\n",
       "| age |  0.00988129226 |  0.00989370816 | NaN | NaN | NaN | NaN |\n",
       "| telephone |  0.20658626188 |  0.20330306818 | NaN | NaN | NaN | NaN |\n",
       "| amount | -0.00002915846 | -0.00002866031 | NaN | NaN | NaN | NaN |\n",
       "| duration | -0.02001453860 | -0.01972733973 | NaN | NaN | NaN | NaN |\n",
       "\n"
      ],
      "text/plain": [
       "            glm()          optim(), BFGS  alpha = 0.001 alpha = 0.01\n",
       "(Intercept)  0.62832653262  0.61845846081 NaN           NaN         \n",
       "age          0.00988129226  0.00989370816 NaN           NaN         \n",
       "telephone    0.20658626188  0.20330306818 NaN           NaN         \n",
       "amount      -0.00002915846 -0.00002866031 NaN           NaN         \n",
       "duration    -0.02001453860 -0.01972733973 NaN           NaN         \n",
       "            alpha = 0.1 alpha = 0.2\n",
       "(Intercept) NaN         NaN        \n",
       "age         NaN         NaN        \n",
       "telephone   NaN         NaN        \n",
       "amount      NaN         NaN        \n",
       "duration    NaN         NaN        "
      ]
     },
     "metadata": {},
     "output_type": "display_data"
    }
   ],
   "source": [
    "probit <- glm(repaid ~ age + telephone + amount + duration, data = repayment, family = binomial(link = \"probit\"))\n",
    "betalist0001 <- gradient_descent(X, y, alpha = 0.001, error_func = probit_cost, grad_func = probit_gradient)\n",
    "betalist001 <- gradient_descent(X, y, error_func = probit_cost, grad_func = probit_gradient)\n",
    "betalist01 <- gradient_descent(X, y, alpha = 0.1, error_func = probit_cost, grad_func = probit_gradient)\n",
    "betalist02 <- gradient_descent(X, y, alpha = 0.2, error_func = probit_cost, grad_func = probit_gradient)\n",
    "opt <- optim(par = rep(0, ncol(X)), fn = probit_cost, gr = probit_gradient, y = y, X = X, method = \"BFGS\")\n",
    "\n",
    "display <- cbind(coef(probit), opt$par, betalist0001[[1]], betalist001[[1]], betalist01[[1]], betalist02[[1]])\n",
    "colnames(display) <- c(\"glm()\", \"optim(), BFGS\", \"alpha = 0.001\", \"alpha = 0.01\", \"alpha = 0.1\", \"alpha = 0.2\")\n",
    "display"
   ]
  },
  {
   "cell_type": "markdown",
   "id": "1d31c471",
   "metadata": {},
   "source": [
    "My gradient descent algorithm does not converge on the 1970s German creditworthiness data even with a super small learning rate of $0.001$. Line search, in this case, fails to generate non-NA gradient. In contrast, R optim(), a general-purpose optimizer (minimizer) based on the BFGS and L-BFGS-B algorithms, can return some decent estimates if we employ the BFGS option. Inspired by this, for Project 2, I aim to code up a quasi-Newton-based optimizer that can successfully fit a logit and a probit model on this dataset."
   ]
  }
 ],
 "metadata": {
  "kernelspec": {
   "display_name": "R",
   "language": "R",
   "name": "ir"
  },
  "language_info": {
   "codemirror_mode": "r",
   "file_extension": ".r",
   "mimetype": "text/x-r-source",
   "name": "R",
   "pygments_lexer": "r",
   "version": "4.1.3"
  }
 },
 "nbformat": 4,
 "nbformat_minor": 5
}
